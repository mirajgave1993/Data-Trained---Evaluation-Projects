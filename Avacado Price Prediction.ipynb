{
 "cells": [
  {
   "cell_type": "code",
   "execution_count": 4,
   "metadata": {},
   "outputs": [],
   "source": [
    "import numpy as np\n",
    "import pandas as pd\n",
    "import matplotlib.pyplot as plt\n",
    "import seaborn as sns\n",
    "import warnings\n",
    "warnings.filterwarnings('ignore')"
   ]
  },
  {
   "cell_type": "code",
   "execution_count": 5,
   "metadata": {},
   "outputs": [
    {
     "data": {
      "text/html": [
       "<div>\n",
       "<style scoped>\n",
       "    .dataframe tbody tr th:only-of-type {\n",
       "        vertical-align: middle;\n",
       "    }\n",
       "\n",
       "    .dataframe tbody tr th {\n",
       "        vertical-align: top;\n",
       "    }\n",
       "\n",
       "    .dataframe thead th {\n",
       "        text-align: right;\n",
       "    }\n",
       "</style>\n",
       "<table border=\"1\" class=\"dataframe\">\n",
       "  <thead>\n",
       "    <tr style=\"text-align: right;\">\n",
       "      <th></th>\n",
       "      <th>Unnamed: 0</th>\n",
       "      <th>Date</th>\n",
       "      <th>AveragePrice</th>\n",
       "      <th>Total Volume</th>\n",
       "      <th>4046</th>\n",
       "      <th>4225</th>\n",
       "      <th>4770</th>\n",
       "      <th>Total Bags</th>\n",
       "      <th>Small Bags</th>\n",
       "      <th>Large Bags</th>\n",
       "      <th>XLarge Bags</th>\n",
       "      <th>type</th>\n",
       "      <th>year</th>\n",
       "      <th>region</th>\n",
       "    </tr>\n",
       "  </thead>\n",
       "  <tbody>\n",
       "    <tr>\n",
       "      <th>0</th>\n",
       "      <td>0</td>\n",
       "      <td>2015-12-27</td>\n",
       "      <td>1.33</td>\n",
       "      <td>64236.62</td>\n",
       "      <td>1036.74</td>\n",
       "      <td>54454.85</td>\n",
       "      <td>48.16</td>\n",
       "      <td>8696.87</td>\n",
       "      <td>8603.62</td>\n",
       "      <td>93.25</td>\n",
       "      <td>0.0</td>\n",
       "      <td>conventional</td>\n",
       "      <td>2015</td>\n",
       "      <td>Albany</td>\n",
       "    </tr>\n",
       "    <tr>\n",
       "      <th>1</th>\n",
       "      <td>1</td>\n",
       "      <td>2015-12-20</td>\n",
       "      <td>1.35</td>\n",
       "      <td>54876.98</td>\n",
       "      <td>674.28</td>\n",
       "      <td>44638.81</td>\n",
       "      <td>58.33</td>\n",
       "      <td>9505.56</td>\n",
       "      <td>9408.07</td>\n",
       "      <td>97.49</td>\n",
       "      <td>0.0</td>\n",
       "      <td>conventional</td>\n",
       "      <td>2015</td>\n",
       "      <td>Albany</td>\n",
       "    </tr>\n",
       "    <tr>\n",
       "      <th>2</th>\n",
       "      <td>2</td>\n",
       "      <td>2015-12-13</td>\n",
       "      <td>0.93</td>\n",
       "      <td>118220.22</td>\n",
       "      <td>794.70</td>\n",
       "      <td>109149.67</td>\n",
       "      <td>130.50</td>\n",
       "      <td>8145.35</td>\n",
       "      <td>8042.21</td>\n",
       "      <td>103.14</td>\n",
       "      <td>0.0</td>\n",
       "      <td>conventional</td>\n",
       "      <td>2015</td>\n",
       "      <td>Albany</td>\n",
       "    </tr>\n",
       "    <tr>\n",
       "      <th>3</th>\n",
       "      <td>3</td>\n",
       "      <td>2015-12-06</td>\n",
       "      <td>1.08</td>\n",
       "      <td>78992.15</td>\n",
       "      <td>1132.00</td>\n",
       "      <td>71976.41</td>\n",
       "      <td>72.58</td>\n",
       "      <td>5811.16</td>\n",
       "      <td>5677.40</td>\n",
       "      <td>133.76</td>\n",
       "      <td>0.0</td>\n",
       "      <td>conventional</td>\n",
       "      <td>2015</td>\n",
       "      <td>Albany</td>\n",
       "    </tr>\n",
       "    <tr>\n",
       "      <th>4</th>\n",
       "      <td>4</td>\n",
       "      <td>2015-11-29</td>\n",
       "      <td>1.28</td>\n",
       "      <td>51039.60</td>\n",
       "      <td>941.48</td>\n",
       "      <td>43838.39</td>\n",
       "      <td>75.78</td>\n",
       "      <td>6183.95</td>\n",
       "      <td>5986.26</td>\n",
       "      <td>197.69</td>\n",
       "      <td>0.0</td>\n",
       "      <td>conventional</td>\n",
       "      <td>2015</td>\n",
       "      <td>Albany</td>\n",
       "    </tr>\n",
       "    <tr>\n",
       "      <th>...</th>\n",
       "      <td>...</td>\n",
       "      <td>...</td>\n",
       "      <td>...</td>\n",
       "      <td>...</td>\n",
       "      <td>...</td>\n",
       "      <td>...</td>\n",
       "      <td>...</td>\n",
       "      <td>...</td>\n",
       "      <td>...</td>\n",
       "      <td>...</td>\n",
       "      <td>...</td>\n",
       "      <td>...</td>\n",
       "      <td>...</td>\n",
       "      <td>...</td>\n",
       "    </tr>\n",
       "    <tr>\n",
       "      <th>18244</th>\n",
       "      <td>7</td>\n",
       "      <td>2018-02-04</td>\n",
       "      <td>1.63</td>\n",
       "      <td>17074.83</td>\n",
       "      <td>2046.96</td>\n",
       "      <td>1529.20</td>\n",
       "      <td>0.00</td>\n",
       "      <td>13498.67</td>\n",
       "      <td>13066.82</td>\n",
       "      <td>431.85</td>\n",
       "      <td>0.0</td>\n",
       "      <td>organic</td>\n",
       "      <td>2018</td>\n",
       "      <td>WestTexNewMexico</td>\n",
       "    </tr>\n",
       "    <tr>\n",
       "      <th>18245</th>\n",
       "      <td>8</td>\n",
       "      <td>2018-01-28</td>\n",
       "      <td>1.71</td>\n",
       "      <td>13888.04</td>\n",
       "      <td>1191.70</td>\n",
       "      <td>3431.50</td>\n",
       "      <td>0.00</td>\n",
       "      <td>9264.84</td>\n",
       "      <td>8940.04</td>\n",
       "      <td>324.80</td>\n",
       "      <td>0.0</td>\n",
       "      <td>organic</td>\n",
       "      <td>2018</td>\n",
       "      <td>WestTexNewMexico</td>\n",
       "    </tr>\n",
       "    <tr>\n",
       "      <th>18246</th>\n",
       "      <td>9</td>\n",
       "      <td>2018-01-21</td>\n",
       "      <td>1.87</td>\n",
       "      <td>13766.76</td>\n",
       "      <td>1191.92</td>\n",
       "      <td>2452.79</td>\n",
       "      <td>727.94</td>\n",
       "      <td>9394.11</td>\n",
       "      <td>9351.80</td>\n",
       "      <td>42.31</td>\n",
       "      <td>0.0</td>\n",
       "      <td>organic</td>\n",
       "      <td>2018</td>\n",
       "      <td>WestTexNewMexico</td>\n",
       "    </tr>\n",
       "    <tr>\n",
       "      <th>18247</th>\n",
       "      <td>10</td>\n",
       "      <td>2018-01-14</td>\n",
       "      <td>1.93</td>\n",
       "      <td>16205.22</td>\n",
       "      <td>1527.63</td>\n",
       "      <td>2981.04</td>\n",
       "      <td>727.01</td>\n",
       "      <td>10969.54</td>\n",
       "      <td>10919.54</td>\n",
       "      <td>50.00</td>\n",
       "      <td>0.0</td>\n",
       "      <td>organic</td>\n",
       "      <td>2018</td>\n",
       "      <td>WestTexNewMexico</td>\n",
       "    </tr>\n",
       "    <tr>\n",
       "      <th>18248</th>\n",
       "      <td>11</td>\n",
       "      <td>2018-01-07</td>\n",
       "      <td>1.62</td>\n",
       "      <td>17489.58</td>\n",
       "      <td>2894.77</td>\n",
       "      <td>2356.13</td>\n",
       "      <td>224.53</td>\n",
       "      <td>12014.15</td>\n",
       "      <td>11988.14</td>\n",
       "      <td>26.01</td>\n",
       "      <td>0.0</td>\n",
       "      <td>organic</td>\n",
       "      <td>2018</td>\n",
       "      <td>WestTexNewMexico</td>\n",
       "    </tr>\n",
       "  </tbody>\n",
       "</table>\n",
       "<p>18249 rows × 14 columns</p>\n",
       "</div>"
      ],
      "text/plain": [
       "       Unnamed: 0        Date  AveragePrice  Total Volume     4046       4225  \\\n",
       "0               0  2015-12-27          1.33      64236.62  1036.74   54454.85   \n",
       "1               1  2015-12-20          1.35      54876.98   674.28   44638.81   \n",
       "2               2  2015-12-13          0.93     118220.22   794.70  109149.67   \n",
       "3               3  2015-12-06          1.08      78992.15  1132.00   71976.41   \n",
       "4               4  2015-11-29          1.28      51039.60   941.48   43838.39   \n",
       "...           ...         ...           ...           ...      ...        ...   \n",
       "18244           7  2018-02-04          1.63      17074.83  2046.96    1529.20   \n",
       "18245           8  2018-01-28          1.71      13888.04  1191.70    3431.50   \n",
       "18246           9  2018-01-21          1.87      13766.76  1191.92    2452.79   \n",
       "18247          10  2018-01-14          1.93      16205.22  1527.63    2981.04   \n",
       "18248          11  2018-01-07          1.62      17489.58  2894.77    2356.13   \n",
       "\n",
       "         4770  Total Bags  Small Bags  Large Bags  XLarge Bags          type  \\\n",
       "0       48.16     8696.87     8603.62       93.25          0.0  conventional   \n",
       "1       58.33     9505.56     9408.07       97.49          0.0  conventional   \n",
       "2      130.50     8145.35     8042.21      103.14          0.0  conventional   \n",
       "3       72.58     5811.16     5677.40      133.76          0.0  conventional   \n",
       "4       75.78     6183.95     5986.26      197.69          0.0  conventional   \n",
       "...       ...         ...         ...         ...          ...           ...   \n",
       "18244    0.00    13498.67    13066.82      431.85          0.0       organic   \n",
       "18245    0.00     9264.84     8940.04      324.80          0.0       organic   \n",
       "18246  727.94     9394.11     9351.80       42.31          0.0       organic   \n",
       "18247  727.01    10969.54    10919.54       50.00          0.0       organic   \n",
       "18248  224.53    12014.15    11988.14       26.01          0.0       organic   \n",
       "\n",
       "       year            region  \n",
       "0      2015            Albany  \n",
       "1      2015            Albany  \n",
       "2      2015            Albany  \n",
       "3      2015            Albany  \n",
       "4      2015            Albany  \n",
       "...     ...               ...  \n",
       "18244  2018  WestTexNewMexico  \n",
       "18245  2018  WestTexNewMexico  \n",
       "18246  2018  WestTexNewMexico  \n",
       "18247  2018  WestTexNewMexico  \n",
       "18248  2018  WestTexNewMexico  \n",
       "\n",
       "[18249 rows x 14 columns]"
      ]
     },
     "execution_count": 5,
     "metadata": {},
     "output_type": "execute_result"
    }
   ],
   "source": [
    "df=pd.read_csv('avocado.csv')\n",
    "df"
   ]
  },
  {
   "cell_type": "code",
   "execution_count": 6,
   "metadata": {},
   "outputs": [
    {
     "data": {
      "text/plain": [
       "Unnamed: 0      0\n",
       "Date            0\n",
       "AveragePrice    0\n",
       "Total Volume    0\n",
       "4046            0\n",
       "4225            0\n",
       "4770            0\n",
       "Total Bags      0\n",
       "Small Bags      0\n",
       "Large Bags      0\n",
       "XLarge Bags     0\n",
       "type            0\n",
       "year            0\n",
       "region          0\n",
       "dtype: int64"
      ]
     },
     "execution_count": 6,
     "metadata": {},
     "output_type": "execute_result"
    }
   ],
   "source": [
    "df.isnull().sum()"
   ]
  },
  {
   "cell_type": "code",
   "execution_count": 7,
   "metadata": {},
   "outputs": [
    {
     "name": "stdout",
     "output_type": "stream",
     "text": [
      "<class 'pandas.core.frame.DataFrame'>\n",
      "RangeIndex: 18249 entries, 0 to 18248\n",
      "Data columns (total 14 columns):\n",
      " #   Column        Non-Null Count  Dtype  \n",
      "---  ------        --------------  -----  \n",
      " 0   Unnamed: 0    18249 non-null  int64  \n",
      " 1   Date          18249 non-null  object \n",
      " 2   AveragePrice  18249 non-null  float64\n",
      " 3   Total Volume  18249 non-null  float64\n",
      " 4   4046          18249 non-null  float64\n",
      " 5   4225          18249 non-null  float64\n",
      " 6   4770          18249 non-null  float64\n",
      " 7   Total Bags    18249 non-null  float64\n",
      " 8   Small Bags    18249 non-null  float64\n",
      " 9   Large Bags    18249 non-null  float64\n",
      " 10  XLarge Bags   18249 non-null  float64\n",
      " 11  type          18249 non-null  object \n",
      " 12  year          18249 non-null  int64  \n",
      " 13  region        18249 non-null  object \n",
      "dtypes: float64(9), int64(2), object(3)\n",
      "memory usage: 1.9+ MB\n"
     ]
    }
   ],
   "source": [
    "df.info()"
   ]
  },
  {
   "cell_type": "code",
   "execution_count": 8,
   "metadata": {},
   "outputs": [
    {
     "data": {
      "text/plain": [
       "(18249, 14)"
      ]
     },
     "execution_count": 8,
     "metadata": {},
     "output_type": "execute_result"
    }
   ],
   "source": [
    "df.shape"
   ]
  },
  {
   "cell_type": "markdown",
   "metadata": {},
   "source": [
    "There are 18249 rows and 14 columns\n",
    "\n",
    "There is an Unnamed: 0 column which we will have to remove 4046, 4225 and 4770 are Product look up code as per the description given. We will then rename them as PL1, PL2 and PL3"
   ]
  },
  {
   "cell_type": "code",
   "execution_count": 9,
   "metadata": {},
   "outputs": [],
   "source": [
    "df['PL1']=df['4046']\n",
    "df['PL2']=df['4225']\n",
    "df['PL3']=df['4770']"
   ]
  },
  {
   "cell_type": "code",
   "execution_count": 10,
   "metadata": {},
   "outputs": [
    {
     "data": {
      "text/html": [
       "<div>\n",
       "<style scoped>\n",
       "    .dataframe tbody tr th:only-of-type {\n",
       "        vertical-align: middle;\n",
       "    }\n",
       "\n",
       "    .dataframe tbody tr th {\n",
       "        vertical-align: top;\n",
       "    }\n",
       "\n",
       "    .dataframe thead th {\n",
       "        text-align: right;\n",
       "    }\n",
       "</style>\n",
       "<table border=\"1\" class=\"dataframe\">\n",
       "  <thead>\n",
       "    <tr style=\"text-align: right;\">\n",
       "      <th></th>\n",
       "      <th>Unnamed: 0</th>\n",
       "      <th>AveragePrice</th>\n",
       "      <th>Total Volume</th>\n",
       "      <th>4046</th>\n",
       "      <th>4225</th>\n",
       "      <th>4770</th>\n",
       "      <th>Total Bags</th>\n",
       "      <th>Small Bags</th>\n",
       "      <th>Large Bags</th>\n",
       "      <th>XLarge Bags</th>\n",
       "      <th>year</th>\n",
       "      <th>PL1</th>\n",
       "      <th>PL2</th>\n",
       "      <th>PL3</th>\n",
       "    </tr>\n",
       "  </thead>\n",
       "  <tbody>\n",
       "    <tr>\n",
       "      <th>count</th>\n",
       "      <td>18249.000000</td>\n",
       "      <td>18249.000000</td>\n",
       "      <td>1.824900e+04</td>\n",
       "      <td>1.824900e+04</td>\n",
       "      <td>1.824900e+04</td>\n",
       "      <td>1.824900e+04</td>\n",
       "      <td>1.824900e+04</td>\n",
       "      <td>1.824900e+04</td>\n",
       "      <td>1.824900e+04</td>\n",
       "      <td>18249.000000</td>\n",
       "      <td>18249.000000</td>\n",
       "      <td>1.824900e+04</td>\n",
       "      <td>1.824900e+04</td>\n",
       "      <td>1.824900e+04</td>\n",
       "    </tr>\n",
       "    <tr>\n",
       "      <th>mean</th>\n",
       "      <td>24.232232</td>\n",
       "      <td>1.405978</td>\n",
       "      <td>8.506440e+05</td>\n",
       "      <td>2.930084e+05</td>\n",
       "      <td>2.951546e+05</td>\n",
       "      <td>2.283974e+04</td>\n",
       "      <td>2.396392e+05</td>\n",
       "      <td>1.821947e+05</td>\n",
       "      <td>5.433809e+04</td>\n",
       "      <td>3106.426507</td>\n",
       "      <td>2016.147899</td>\n",
       "      <td>2.930084e+05</td>\n",
       "      <td>2.951546e+05</td>\n",
       "      <td>2.283974e+04</td>\n",
       "    </tr>\n",
       "    <tr>\n",
       "      <th>std</th>\n",
       "      <td>15.481045</td>\n",
       "      <td>0.402677</td>\n",
       "      <td>3.453545e+06</td>\n",
       "      <td>1.264989e+06</td>\n",
       "      <td>1.204120e+06</td>\n",
       "      <td>1.074641e+05</td>\n",
       "      <td>9.862424e+05</td>\n",
       "      <td>7.461785e+05</td>\n",
       "      <td>2.439660e+05</td>\n",
       "      <td>17692.894652</td>\n",
       "      <td>0.939938</td>\n",
       "      <td>1.264989e+06</td>\n",
       "      <td>1.204120e+06</td>\n",
       "      <td>1.074641e+05</td>\n",
       "    </tr>\n",
       "    <tr>\n",
       "      <th>min</th>\n",
       "      <td>0.000000</td>\n",
       "      <td>0.440000</td>\n",
       "      <td>8.456000e+01</td>\n",
       "      <td>0.000000e+00</td>\n",
       "      <td>0.000000e+00</td>\n",
       "      <td>0.000000e+00</td>\n",
       "      <td>0.000000e+00</td>\n",
       "      <td>0.000000e+00</td>\n",
       "      <td>0.000000e+00</td>\n",
       "      <td>0.000000</td>\n",
       "      <td>2015.000000</td>\n",
       "      <td>0.000000e+00</td>\n",
       "      <td>0.000000e+00</td>\n",
       "      <td>0.000000e+00</td>\n",
       "    </tr>\n",
       "    <tr>\n",
       "      <th>25%</th>\n",
       "      <td>10.000000</td>\n",
       "      <td>1.100000</td>\n",
       "      <td>1.083858e+04</td>\n",
       "      <td>8.540700e+02</td>\n",
       "      <td>3.008780e+03</td>\n",
       "      <td>0.000000e+00</td>\n",
       "      <td>5.088640e+03</td>\n",
       "      <td>2.849420e+03</td>\n",
       "      <td>1.274700e+02</td>\n",
       "      <td>0.000000</td>\n",
       "      <td>2015.000000</td>\n",
       "      <td>8.540700e+02</td>\n",
       "      <td>3.008780e+03</td>\n",
       "      <td>0.000000e+00</td>\n",
       "    </tr>\n",
       "    <tr>\n",
       "      <th>50%</th>\n",
       "      <td>24.000000</td>\n",
       "      <td>1.370000</td>\n",
       "      <td>1.073768e+05</td>\n",
       "      <td>8.645300e+03</td>\n",
       "      <td>2.906102e+04</td>\n",
       "      <td>1.849900e+02</td>\n",
       "      <td>3.974383e+04</td>\n",
       "      <td>2.636282e+04</td>\n",
       "      <td>2.647710e+03</td>\n",
       "      <td>0.000000</td>\n",
       "      <td>2016.000000</td>\n",
       "      <td>8.645300e+03</td>\n",
       "      <td>2.906102e+04</td>\n",
       "      <td>1.849900e+02</td>\n",
       "    </tr>\n",
       "    <tr>\n",
       "      <th>75%</th>\n",
       "      <td>38.000000</td>\n",
       "      <td>1.660000</td>\n",
       "      <td>4.329623e+05</td>\n",
       "      <td>1.110202e+05</td>\n",
       "      <td>1.502069e+05</td>\n",
       "      <td>6.243420e+03</td>\n",
       "      <td>1.107834e+05</td>\n",
       "      <td>8.333767e+04</td>\n",
       "      <td>2.202925e+04</td>\n",
       "      <td>132.500000</td>\n",
       "      <td>2017.000000</td>\n",
       "      <td>1.110202e+05</td>\n",
       "      <td>1.502069e+05</td>\n",
       "      <td>6.243420e+03</td>\n",
       "    </tr>\n",
       "    <tr>\n",
       "      <th>max</th>\n",
       "      <td>52.000000</td>\n",
       "      <td>3.250000</td>\n",
       "      <td>6.250565e+07</td>\n",
       "      <td>2.274362e+07</td>\n",
       "      <td>2.047057e+07</td>\n",
       "      <td>2.546439e+06</td>\n",
       "      <td>1.937313e+07</td>\n",
       "      <td>1.338459e+07</td>\n",
       "      <td>5.719097e+06</td>\n",
       "      <td>551693.650000</td>\n",
       "      <td>2018.000000</td>\n",
       "      <td>2.274362e+07</td>\n",
       "      <td>2.047057e+07</td>\n",
       "      <td>2.546439e+06</td>\n",
       "    </tr>\n",
       "  </tbody>\n",
       "</table>\n",
       "</div>"
      ],
      "text/plain": [
       "         Unnamed: 0  AveragePrice  Total Volume          4046          4225  \\\n",
       "count  18249.000000  18249.000000  1.824900e+04  1.824900e+04  1.824900e+04   \n",
       "mean      24.232232      1.405978  8.506440e+05  2.930084e+05  2.951546e+05   \n",
       "std       15.481045      0.402677  3.453545e+06  1.264989e+06  1.204120e+06   \n",
       "min        0.000000      0.440000  8.456000e+01  0.000000e+00  0.000000e+00   \n",
       "25%       10.000000      1.100000  1.083858e+04  8.540700e+02  3.008780e+03   \n",
       "50%       24.000000      1.370000  1.073768e+05  8.645300e+03  2.906102e+04   \n",
       "75%       38.000000      1.660000  4.329623e+05  1.110202e+05  1.502069e+05   \n",
       "max       52.000000      3.250000  6.250565e+07  2.274362e+07  2.047057e+07   \n",
       "\n",
       "               4770    Total Bags    Small Bags    Large Bags    XLarge Bags  \\\n",
       "count  1.824900e+04  1.824900e+04  1.824900e+04  1.824900e+04   18249.000000   \n",
       "mean   2.283974e+04  2.396392e+05  1.821947e+05  5.433809e+04    3106.426507   \n",
       "std    1.074641e+05  9.862424e+05  7.461785e+05  2.439660e+05   17692.894652   \n",
       "min    0.000000e+00  0.000000e+00  0.000000e+00  0.000000e+00       0.000000   \n",
       "25%    0.000000e+00  5.088640e+03  2.849420e+03  1.274700e+02       0.000000   \n",
       "50%    1.849900e+02  3.974383e+04  2.636282e+04  2.647710e+03       0.000000   \n",
       "75%    6.243420e+03  1.107834e+05  8.333767e+04  2.202925e+04     132.500000   \n",
       "max    2.546439e+06  1.937313e+07  1.338459e+07  5.719097e+06  551693.650000   \n",
       "\n",
       "               year           PL1           PL2           PL3  \n",
       "count  18249.000000  1.824900e+04  1.824900e+04  1.824900e+04  \n",
       "mean    2016.147899  2.930084e+05  2.951546e+05  2.283974e+04  \n",
       "std        0.939938  1.264989e+06  1.204120e+06  1.074641e+05  \n",
       "min     2015.000000  0.000000e+00  0.000000e+00  0.000000e+00  \n",
       "25%     2015.000000  8.540700e+02  3.008780e+03  0.000000e+00  \n",
       "50%     2016.000000  8.645300e+03  2.906102e+04  1.849900e+02  \n",
       "75%     2017.000000  1.110202e+05  1.502069e+05  6.243420e+03  \n",
       "max     2018.000000  2.274362e+07  2.047057e+07  2.546439e+06  "
      ]
     },
     "execution_count": 10,
     "metadata": {},
     "output_type": "execute_result"
    }
   ],
   "source": [
    "df.describe()"
   ]
  },
  {
   "cell_type": "code",
   "execution_count": 11,
   "metadata": {},
   "outputs": [
    {
     "data": {
      "text/html": [
       "<div>\n",
       "<style scoped>\n",
       "    .dataframe tbody tr th:only-of-type {\n",
       "        vertical-align: middle;\n",
       "    }\n",
       "\n",
       "    .dataframe tbody tr th {\n",
       "        vertical-align: top;\n",
       "    }\n",
       "\n",
       "    .dataframe thead th {\n",
       "        text-align: right;\n",
       "    }\n",
       "</style>\n",
       "<table border=\"1\" class=\"dataframe\">\n",
       "  <thead>\n",
       "    <tr style=\"text-align: right;\">\n",
       "      <th></th>\n",
       "      <th>Unnamed: 0</th>\n",
       "      <th>Date</th>\n",
       "      <th>AveragePrice</th>\n",
       "      <th>Total Volume</th>\n",
       "      <th>4046</th>\n",
       "      <th>4225</th>\n",
       "      <th>4770</th>\n",
       "      <th>Total Bags</th>\n",
       "      <th>Small Bags</th>\n",
       "      <th>Large Bags</th>\n",
       "      <th>XLarge Bags</th>\n",
       "      <th>type</th>\n",
       "      <th>year</th>\n",
       "      <th>region</th>\n",
       "      <th>PL1</th>\n",
       "      <th>PL2</th>\n",
       "      <th>PL3</th>\n",
       "    </tr>\n",
       "  </thead>\n",
       "  <tbody>\n",
       "    <tr>\n",
       "      <th>0</th>\n",
       "      <td>0</td>\n",
       "      <td>2015-12-27</td>\n",
       "      <td>1.33</td>\n",
       "      <td>64236.62</td>\n",
       "      <td>1036.74</td>\n",
       "      <td>54454.85</td>\n",
       "      <td>48.16</td>\n",
       "      <td>8696.87</td>\n",
       "      <td>8603.62</td>\n",
       "      <td>93.25</td>\n",
       "      <td>0.0</td>\n",
       "      <td>conventional</td>\n",
       "      <td>2015</td>\n",
       "      <td>Albany</td>\n",
       "      <td>1036.74</td>\n",
       "      <td>54454.85</td>\n",
       "      <td>48.16</td>\n",
       "    </tr>\n",
       "    <tr>\n",
       "      <th>1</th>\n",
       "      <td>1</td>\n",
       "      <td>2015-12-20</td>\n",
       "      <td>1.35</td>\n",
       "      <td>54876.98</td>\n",
       "      <td>674.28</td>\n",
       "      <td>44638.81</td>\n",
       "      <td>58.33</td>\n",
       "      <td>9505.56</td>\n",
       "      <td>9408.07</td>\n",
       "      <td>97.49</td>\n",
       "      <td>0.0</td>\n",
       "      <td>conventional</td>\n",
       "      <td>2015</td>\n",
       "      <td>Albany</td>\n",
       "      <td>674.28</td>\n",
       "      <td>44638.81</td>\n",
       "      <td>58.33</td>\n",
       "    </tr>\n",
       "    <tr>\n",
       "      <th>2</th>\n",
       "      <td>2</td>\n",
       "      <td>2015-12-13</td>\n",
       "      <td>0.93</td>\n",
       "      <td>118220.22</td>\n",
       "      <td>794.70</td>\n",
       "      <td>109149.67</td>\n",
       "      <td>130.50</td>\n",
       "      <td>8145.35</td>\n",
       "      <td>8042.21</td>\n",
       "      <td>103.14</td>\n",
       "      <td>0.0</td>\n",
       "      <td>conventional</td>\n",
       "      <td>2015</td>\n",
       "      <td>Albany</td>\n",
       "      <td>794.70</td>\n",
       "      <td>109149.67</td>\n",
       "      <td>130.50</td>\n",
       "    </tr>\n",
       "    <tr>\n",
       "      <th>3</th>\n",
       "      <td>3</td>\n",
       "      <td>2015-12-06</td>\n",
       "      <td>1.08</td>\n",
       "      <td>78992.15</td>\n",
       "      <td>1132.00</td>\n",
       "      <td>71976.41</td>\n",
       "      <td>72.58</td>\n",
       "      <td>5811.16</td>\n",
       "      <td>5677.40</td>\n",
       "      <td>133.76</td>\n",
       "      <td>0.0</td>\n",
       "      <td>conventional</td>\n",
       "      <td>2015</td>\n",
       "      <td>Albany</td>\n",
       "      <td>1132.00</td>\n",
       "      <td>71976.41</td>\n",
       "      <td>72.58</td>\n",
       "    </tr>\n",
       "    <tr>\n",
       "      <th>4</th>\n",
       "      <td>4</td>\n",
       "      <td>2015-11-29</td>\n",
       "      <td>1.28</td>\n",
       "      <td>51039.60</td>\n",
       "      <td>941.48</td>\n",
       "      <td>43838.39</td>\n",
       "      <td>75.78</td>\n",
       "      <td>6183.95</td>\n",
       "      <td>5986.26</td>\n",
       "      <td>197.69</td>\n",
       "      <td>0.0</td>\n",
       "      <td>conventional</td>\n",
       "      <td>2015</td>\n",
       "      <td>Albany</td>\n",
       "      <td>941.48</td>\n",
       "      <td>43838.39</td>\n",
       "      <td>75.78</td>\n",
       "    </tr>\n",
       "  </tbody>\n",
       "</table>\n",
       "</div>"
      ],
      "text/plain": [
       "   Unnamed: 0        Date  AveragePrice  Total Volume     4046       4225  \\\n",
       "0           0  2015-12-27          1.33      64236.62  1036.74   54454.85   \n",
       "1           1  2015-12-20          1.35      54876.98   674.28   44638.81   \n",
       "2           2  2015-12-13          0.93     118220.22   794.70  109149.67   \n",
       "3           3  2015-12-06          1.08      78992.15  1132.00   71976.41   \n",
       "4           4  2015-11-29          1.28      51039.60   941.48   43838.39   \n",
       "\n",
       "     4770  Total Bags  Small Bags  Large Bags  XLarge Bags          type  \\\n",
       "0   48.16     8696.87     8603.62       93.25          0.0  conventional   \n",
       "1   58.33     9505.56     9408.07       97.49          0.0  conventional   \n",
       "2  130.50     8145.35     8042.21      103.14          0.0  conventional   \n",
       "3   72.58     5811.16     5677.40      133.76          0.0  conventional   \n",
       "4   75.78     6183.95     5986.26      197.69          0.0  conventional   \n",
       "\n",
       "   year  region      PL1        PL2     PL3  \n",
       "0  2015  Albany  1036.74   54454.85   48.16  \n",
       "1  2015  Albany   674.28   44638.81   58.33  \n",
       "2  2015  Albany   794.70  109149.67  130.50  \n",
       "3  2015  Albany  1132.00   71976.41   72.58  \n",
       "4  2015  Albany   941.48   43838.39   75.78  "
      ]
     },
     "execution_count": 11,
     "metadata": {},
     "output_type": "execute_result"
    }
   ],
   "source": [
    "df.head()"
   ]
  },
  {
   "cell_type": "markdown",
   "metadata": {},
   "source": [
    "The columns are copied now lets drop the original"
   ]
  },
  {
   "cell_type": "code",
   "execution_count": 12,
   "metadata": {},
   "outputs": [],
   "source": [
    "df.drop(['Unnamed: 0','4046','4225','4770'],axis=1,inplace=True)"
   ]
  },
  {
   "cell_type": "code",
   "execution_count": 13,
   "metadata": {},
   "outputs": [
    {
     "data": {
      "text/html": [
       "<div>\n",
       "<style scoped>\n",
       "    .dataframe tbody tr th:only-of-type {\n",
       "        vertical-align: middle;\n",
       "    }\n",
       "\n",
       "    .dataframe tbody tr th {\n",
       "        vertical-align: top;\n",
       "    }\n",
       "\n",
       "    .dataframe thead th {\n",
       "        text-align: right;\n",
       "    }\n",
       "</style>\n",
       "<table border=\"1\" class=\"dataframe\">\n",
       "  <thead>\n",
       "    <tr style=\"text-align: right;\">\n",
       "      <th></th>\n",
       "      <th>Date</th>\n",
       "      <th>AveragePrice</th>\n",
       "      <th>Total Volume</th>\n",
       "      <th>Total Bags</th>\n",
       "      <th>Small Bags</th>\n",
       "      <th>Large Bags</th>\n",
       "      <th>XLarge Bags</th>\n",
       "      <th>type</th>\n",
       "      <th>year</th>\n",
       "      <th>region</th>\n",
       "      <th>PL1</th>\n",
       "      <th>PL2</th>\n",
       "      <th>PL3</th>\n",
       "    </tr>\n",
       "  </thead>\n",
       "  <tbody>\n",
       "    <tr>\n",
       "      <th>0</th>\n",
       "      <td>2015-12-27</td>\n",
       "      <td>1.33</td>\n",
       "      <td>64236.62</td>\n",
       "      <td>8696.87</td>\n",
       "      <td>8603.62</td>\n",
       "      <td>93.25</td>\n",
       "      <td>0.0</td>\n",
       "      <td>conventional</td>\n",
       "      <td>2015</td>\n",
       "      <td>Albany</td>\n",
       "      <td>1036.74</td>\n",
       "      <td>54454.85</td>\n",
       "      <td>48.16</td>\n",
       "    </tr>\n",
       "    <tr>\n",
       "      <th>1</th>\n",
       "      <td>2015-12-20</td>\n",
       "      <td>1.35</td>\n",
       "      <td>54876.98</td>\n",
       "      <td>9505.56</td>\n",
       "      <td>9408.07</td>\n",
       "      <td>97.49</td>\n",
       "      <td>0.0</td>\n",
       "      <td>conventional</td>\n",
       "      <td>2015</td>\n",
       "      <td>Albany</td>\n",
       "      <td>674.28</td>\n",
       "      <td>44638.81</td>\n",
       "      <td>58.33</td>\n",
       "    </tr>\n",
       "    <tr>\n",
       "      <th>2</th>\n",
       "      <td>2015-12-13</td>\n",
       "      <td>0.93</td>\n",
       "      <td>118220.22</td>\n",
       "      <td>8145.35</td>\n",
       "      <td>8042.21</td>\n",
       "      <td>103.14</td>\n",
       "      <td>0.0</td>\n",
       "      <td>conventional</td>\n",
       "      <td>2015</td>\n",
       "      <td>Albany</td>\n",
       "      <td>794.70</td>\n",
       "      <td>109149.67</td>\n",
       "      <td>130.50</td>\n",
       "    </tr>\n",
       "    <tr>\n",
       "      <th>3</th>\n",
       "      <td>2015-12-06</td>\n",
       "      <td>1.08</td>\n",
       "      <td>78992.15</td>\n",
       "      <td>5811.16</td>\n",
       "      <td>5677.40</td>\n",
       "      <td>133.76</td>\n",
       "      <td>0.0</td>\n",
       "      <td>conventional</td>\n",
       "      <td>2015</td>\n",
       "      <td>Albany</td>\n",
       "      <td>1132.00</td>\n",
       "      <td>71976.41</td>\n",
       "      <td>72.58</td>\n",
       "    </tr>\n",
       "    <tr>\n",
       "      <th>4</th>\n",
       "      <td>2015-11-29</td>\n",
       "      <td>1.28</td>\n",
       "      <td>51039.60</td>\n",
       "      <td>6183.95</td>\n",
       "      <td>5986.26</td>\n",
       "      <td>197.69</td>\n",
       "      <td>0.0</td>\n",
       "      <td>conventional</td>\n",
       "      <td>2015</td>\n",
       "      <td>Albany</td>\n",
       "      <td>941.48</td>\n",
       "      <td>43838.39</td>\n",
       "      <td>75.78</td>\n",
       "    </tr>\n",
       "    <tr>\n",
       "      <th>...</th>\n",
       "      <td>...</td>\n",
       "      <td>...</td>\n",
       "      <td>...</td>\n",
       "      <td>...</td>\n",
       "      <td>...</td>\n",
       "      <td>...</td>\n",
       "      <td>...</td>\n",
       "      <td>...</td>\n",
       "      <td>...</td>\n",
       "      <td>...</td>\n",
       "      <td>...</td>\n",
       "      <td>...</td>\n",
       "      <td>...</td>\n",
       "    </tr>\n",
       "    <tr>\n",
       "      <th>18244</th>\n",
       "      <td>2018-02-04</td>\n",
       "      <td>1.63</td>\n",
       "      <td>17074.83</td>\n",
       "      <td>13498.67</td>\n",
       "      <td>13066.82</td>\n",
       "      <td>431.85</td>\n",
       "      <td>0.0</td>\n",
       "      <td>organic</td>\n",
       "      <td>2018</td>\n",
       "      <td>WestTexNewMexico</td>\n",
       "      <td>2046.96</td>\n",
       "      <td>1529.20</td>\n",
       "      <td>0.00</td>\n",
       "    </tr>\n",
       "    <tr>\n",
       "      <th>18245</th>\n",
       "      <td>2018-01-28</td>\n",
       "      <td>1.71</td>\n",
       "      <td>13888.04</td>\n",
       "      <td>9264.84</td>\n",
       "      <td>8940.04</td>\n",
       "      <td>324.80</td>\n",
       "      <td>0.0</td>\n",
       "      <td>organic</td>\n",
       "      <td>2018</td>\n",
       "      <td>WestTexNewMexico</td>\n",
       "      <td>1191.70</td>\n",
       "      <td>3431.50</td>\n",
       "      <td>0.00</td>\n",
       "    </tr>\n",
       "    <tr>\n",
       "      <th>18246</th>\n",
       "      <td>2018-01-21</td>\n",
       "      <td>1.87</td>\n",
       "      <td>13766.76</td>\n",
       "      <td>9394.11</td>\n",
       "      <td>9351.80</td>\n",
       "      <td>42.31</td>\n",
       "      <td>0.0</td>\n",
       "      <td>organic</td>\n",
       "      <td>2018</td>\n",
       "      <td>WestTexNewMexico</td>\n",
       "      <td>1191.92</td>\n",
       "      <td>2452.79</td>\n",
       "      <td>727.94</td>\n",
       "    </tr>\n",
       "    <tr>\n",
       "      <th>18247</th>\n",
       "      <td>2018-01-14</td>\n",
       "      <td>1.93</td>\n",
       "      <td>16205.22</td>\n",
       "      <td>10969.54</td>\n",
       "      <td>10919.54</td>\n",
       "      <td>50.00</td>\n",
       "      <td>0.0</td>\n",
       "      <td>organic</td>\n",
       "      <td>2018</td>\n",
       "      <td>WestTexNewMexico</td>\n",
       "      <td>1527.63</td>\n",
       "      <td>2981.04</td>\n",
       "      <td>727.01</td>\n",
       "    </tr>\n",
       "    <tr>\n",
       "      <th>18248</th>\n",
       "      <td>2018-01-07</td>\n",
       "      <td>1.62</td>\n",
       "      <td>17489.58</td>\n",
       "      <td>12014.15</td>\n",
       "      <td>11988.14</td>\n",
       "      <td>26.01</td>\n",
       "      <td>0.0</td>\n",
       "      <td>organic</td>\n",
       "      <td>2018</td>\n",
       "      <td>WestTexNewMexico</td>\n",
       "      <td>2894.77</td>\n",
       "      <td>2356.13</td>\n",
       "      <td>224.53</td>\n",
       "    </tr>\n",
       "  </tbody>\n",
       "</table>\n",
       "<p>18249 rows × 13 columns</p>\n",
       "</div>"
      ],
      "text/plain": [
       "             Date  AveragePrice  Total Volume  Total Bags  Small Bags  \\\n",
       "0      2015-12-27          1.33      64236.62     8696.87     8603.62   \n",
       "1      2015-12-20          1.35      54876.98     9505.56     9408.07   \n",
       "2      2015-12-13          0.93     118220.22     8145.35     8042.21   \n",
       "3      2015-12-06          1.08      78992.15     5811.16     5677.40   \n",
       "4      2015-11-29          1.28      51039.60     6183.95     5986.26   \n",
       "...           ...           ...           ...         ...         ...   \n",
       "18244  2018-02-04          1.63      17074.83    13498.67    13066.82   \n",
       "18245  2018-01-28          1.71      13888.04     9264.84     8940.04   \n",
       "18246  2018-01-21          1.87      13766.76     9394.11     9351.80   \n",
       "18247  2018-01-14          1.93      16205.22    10969.54    10919.54   \n",
       "18248  2018-01-07          1.62      17489.58    12014.15    11988.14   \n",
       "\n",
       "       Large Bags  XLarge Bags          type  year            region      PL1  \\\n",
       "0           93.25          0.0  conventional  2015            Albany  1036.74   \n",
       "1           97.49          0.0  conventional  2015            Albany   674.28   \n",
       "2          103.14          0.0  conventional  2015            Albany   794.70   \n",
       "3          133.76          0.0  conventional  2015            Albany  1132.00   \n",
       "4          197.69          0.0  conventional  2015            Albany   941.48   \n",
       "...           ...          ...           ...   ...               ...      ...   \n",
       "18244      431.85          0.0       organic  2018  WestTexNewMexico  2046.96   \n",
       "18245      324.80          0.0       organic  2018  WestTexNewMexico  1191.70   \n",
       "18246       42.31          0.0       organic  2018  WestTexNewMexico  1191.92   \n",
       "18247       50.00          0.0       organic  2018  WestTexNewMexico  1527.63   \n",
       "18248       26.01          0.0       organic  2018  WestTexNewMexico  2894.77   \n",
       "\n",
       "             PL2     PL3  \n",
       "0       54454.85   48.16  \n",
       "1       44638.81   58.33  \n",
       "2      109149.67  130.50  \n",
       "3       71976.41   72.58  \n",
       "4       43838.39   75.78  \n",
       "...          ...     ...  \n",
       "18244    1529.20    0.00  \n",
       "18245    3431.50    0.00  \n",
       "18246    2452.79  727.94  \n",
       "18247    2981.04  727.01  \n",
       "18248    2356.13  224.53  \n",
       "\n",
       "[18249 rows x 13 columns]"
      ]
     },
     "execution_count": 13,
     "metadata": {},
     "output_type": "execute_result"
    }
   ],
   "source": [
    "df"
   ]
  },
  {
   "cell_type": "code",
   "execution_count": 14,
   "metadata": {},
   "outputs": [
    {
     "data": {
      "text/plain": [
       "Date              169\n",
       "AveragePrice      259\n",
       "Total Volume    18237\n",
       "Total Bags      18097\n",
       "Small Bags      17321\n",
       "Large Bags      15082\n",
       "XLarge Bags      5588\n",
       "type                2\n",
       "year                4\n",
       "region             54\n",
       "PL1             17702\n",
       "PL2             18103\n",
       "PL3             12071\n",
       "dtype: int64"
      ]
     },
     "execution_count": 14,
     "metadata": {},
     "output_type": "execute_result"
    }
   ],
   "source": [
    "df.nunique()"
   ]
  },
  {
   "cell_type": "code",
   "execution_count": 15,
   "metadata": {},
   "outputs": [
    {
     "data": {
      "text/html": [
       "<div>\n",
       "<style scoped>\n",
       "    .dataframe tbody tr th:only-of-type {\n",
       "        vertical-align: middle;\n",
       "    }\n",
       "\n",
       "    .dataframe tbody tr th {\n",
       "        vertical-align: top;\n",
       "    }\n",
       "\n",
       "    .dataframe thead th {\n",
       "        text-align: right;\n",
       "    }\n",
       "</style>\n",
       "<table border=\"1\" class=\"dataframe\">\n",
       "  <thead>\n",
       "    <tr style=\"text-align: right;\">\n",
       "      <th></th>\n",
       "      <th>AveragePrice</th>\n",
       "      <th>Total Volume</th>\n",
       "      <th>Total Bags</th>\n",
       "      <th>Small Bags</th>\n",
       "      <th>Large Bags</th>\n",
       "      <th>XLarge Bags</th>\n",
       "      <th>year</th>\n",
       "      <th>PL1</th>\n",
       "      <th>PL2</th>\n",
       "      <th>PL3</th>\n",
       "    </tr>\n",
       "  </thead>\n",
       "  <tbody>\n",
       "    <tr>\n",
       "      <th>count</th>\n",
       "      <td>18249.000000</td>\n",
       "      <td>1.824900e+04</td>\n",
       "      <td>1.824900e+04</td>\n",
       "      <td>1.824900e+04</td>\n",
       "      <td>1.824900e+04</td>\n",
       "      <td>18249.000000</td>\n",
       "      <td>18249.000000</td>\n",
       "      <td>1.824900e+04</td>\n",
       "      <td>1.824900e+04</td>\n",
       "      <td>1.824900e+04</td>\n",
       "    </tr>\n",
       "    <tr>\n",
       "      <th>mean</th>\n",
       "      <td>1.405978</td>\n",
       "      <td>8.506440e+05</td>\n",
       "      <td>2.396392e+05</td>\n",
       "      <td>1.821947e+05</td>\n",
       "      <td>5.433809e+04</td>\n",
       "      <td>3106.426507</td>\n",
       "      <td>2016.147899</td>\n",
       "      <td>2.930084e+05</td>\n",
       "      <td>2.951546e+05</td>\n",
       "      <td>2.283974e+04</td>\n",
       "    </tr>\n",
       "    <tr>\n",
       "      <th>std</th>\n",
       "      <td>0.402677</td>\n",
       "      <td>3.453545e+06</td>\n",
       "      <td>9.862424e+05</td>\n",
       "      <td>7.461785e+05</td>\n",
       "      <td>2.439660e+05</td>\n",
       "      <td>17692.894652</td>\n",
       "      <td>0.939938</td>\n",
       "      <td>1.264989e+06</td>\n",
       "      <td>1.204120e+06</td>\n",
       "      <td>1.074641e+05</td>\n",
       "    </tr>\n",
       "    <tr>\n",
       "      <th>min</th>\n",
       "      <td>0.440000</td>\n",
       "      <td>8.456000e+01</td>\n",
       "      <td>0.000000e+00</td>\n",
       "      <td>0.000000e+00</td>\n",
       "      <td>0.000000e+00</td>\n",
       "      <td>0.000000</td>\n",
       "      <td>2015.000000</td>\n",
       "      <td>0.000000e+00</td>\n",
       "      <td>0.000000e+00</td>\n",
       "      <td>0.000000e+00</td>\n",
       "    </tr>\n",
       "    <tr>\n",
       "      <th>25%</th>\n",
       "      <td>1.100000</td>\n",
       "      <td>1.083858e+04</td>\n",
       "      <td>5.088640e+03</td>\n",
       "      <td>2.849420e+03</td>\n",
       "      <td>1.274700e+02</td>\n",
       "      <td>0.000000</td>\n",
       "      <td>2015.000000</td>\n",
       "      <td>8.540700e+02</td>\n",
       "      <td>3.008780e+03</td>\n",
       "      <td>0.000000e+00</td>\n",
       "    </tr>\n",
       "    <tr>\n",
       "      <th>50%</th>\n",
       "      <td>1.370000</td>\n",
       "      <td>1.073768e+05</td>\n",
       "      <td>3.974383e+04</td>\n",
       "      <td>2.636282e+04</td>\n",
       "      <td>2.647710e+03</td>\n",
       "      <td>0.000000</td>\n",
       "      <td>2016.000000</td>\n",
       "      <td>8.645300e+03</td>\n",
       "      <td>2.906102e+04</td>\n",
       "      <td>1.849900e+02</td>\n",
       "    </tr>\n",
       "    <tr>\n",
       "      <th>75%</th>\n",
       "      <td>1.660000</td>\n",
       "      <td>4.329623e+05</td>\n",
       "      <td>1.107834e+05</td>\n",
       "      <td>8.333767e+04</td>\n",
       "      <td>2.202925e+04</td>\n",
       "      <td>132.500000</td>\n",
       "      <td>2017.000000</td>\n",
       "      <td>1.110202e+05</td>\n",
       "      <td>1.502069e+05</td>\n",
       "      <td>6.243420e+03</td>\n",
       "    </tr>\n",
       "    <tr>\n",
       "      <th>max</th>\n",
       "      <td>3.250000</td>\n",
       "      <td>6.250565e+07</td>\n",
       "      <td>1.937313e+07</td>\n",
       "      <td>1.338459e+07</td>\n",
       "      <td>5.719097e+06</td>\n",
       "      <td>551693.650000</td>\n",
       "      <td>2018.000000</td>\n",
       "      <td>2.274362e+07</td>\n",
       "      <td>2.047057e+07</td>\n",
       "      <td>2.546439e+06</td>\n",
       "    </tr>\n",
       "  </tbody>\n",
       "</table>\n",
       "</div>"
      ],
      "text/plain": [
       "       AveragePrice  Total Volume    Total Bags    Small Bags    Large Bags  \\\n",
       "count  18249.000000  1.824900e+04  1.824900e+04  1.824900e+04  1.824900e+04   \n",
       "mean       1.405978  8.506440e+05  2.396392e+05  1.821947e+05  5.433809e+04   \n",
       "std        0.402677  3.453545e+06  9.862424e+05  7.461785e+05  2.439660e+05   \n",
       "min        0.440000  8.456000e+01  0.000000e+00  0.000000e+00  0.000000e+00   \n",
       "25%        1.100000  1.083858e+04  5.088640e+03  2.849420e+03  1.274700e+02   \n",
       "50%        1.370000  1.073768e+05  3.974383e+04  2.636282e+04  2.647710e+03   \n",
       "75%        1.660000  4.329623e+05  1.107834e+05  8.333767e+04  2.202925e+04   \n",
       "max        3.250000  6.250565e+07  1.937313e+07  1.338459e+07  5.719097e+06   \n",
       "\n",
       "         XLarge Bags          year           PL1           PL2           PL3  \n",
       "count   18249.000000  18249.000000  1.824900e+04  1.824900e+04  1.824900e+04  \n",
       "mean     3106.426507   2016.147899  2.930084e+05  2.951546e+05  2.283974e+04  \n",
       "std     17692.894652      0.939938  1.264989e+06  1.204120e+06  1.074641e+05  \n",
       "min         0.000000   2015.000000  0.000000e+00  0.000000e+00  0.000000e+00  \n",
       "25%         0.000000   2015.000000  8.540700e+02  3.008780e+03  0.000000e+00  \n",
       "50%         0.000000   2016.000000  8.645300e+03  2.906102e+04  1.849900e+02  \n",
       "75%       132.500000   2017.000000  1.110202e+05  1.502069e+05  6.243420e+03  \n",
       "max    551693.650000   2018.000000  2.274362e+07  2.047057e+07  2.546439e+06  "
      ]
     },
     "execution_count": 15,
     "metadata": {},
     "output_type": "execute_result"
    }
   ],
   "source": [
    "df.describe()"
   ]
  },
  {
   "cell_type": "markdown",
   "metadata": {},
   "source": [
    "Because of the float data we are not getting the correct pciture of the statstical summary.\n",
    "\n",
    "We will need to check this after removing the error"
   ]
  },
  {
   "cell_type": "code",
   "execution_count": 16,
   "metadata": {},
   "outputs": [
    {
     "data": {
      "text/html": [
       "<div>\n",
       "<style scoped>\n",
       "    .dataframe tbody tr th:only-of-type {\n",
       "        vertical-align: middle;\n",
       "    }\n",
       "\n",
       "    .dataframe tbody tr th {\n",
       "        vertical-align: top;\n",
       "    }\n",
       "\n",
       "    .dataframe thead th {\n",
       "        text-align: right;\n",
       "    }\n",
       "</style>\n",
       "<table border=\"1\" class=\"dataframe\">\n",
       "  <thead>\n",
       "    <tr style=\"text-align: right;\">\n",
       "      <th></th>\n",
       "      <th>AveragePrice</th>\n",
       "      <th>Total Volume</th>\n",
       "      <th>Total Bags</th>\n",
       "      <th>Small Bags</th>\n",
       "      <th>Large Bags</th>\n",
       "      <th>XLarge Bags</th>\n",
       "      <th>year</th>\n",
       "      <th>PL1</th>\n",
       "      <th>PL2</th>\n",
       "      <th>PL3</th>\n",
       "    </tr>\n",
       "  </thead>\n",
       "  <tbody>\n",
       "    <tr>\n",
       "      <th>count</th>\n",
       "      <td>18249.00000</td>\n",
       "      <td>18249.00000</td>\n",
       "      <td>18249.00000</td>\n",
       "      <td>18249.00000</td>\n",
       "      <td>18249.00000</td>\n",
       "      <td>18249.00000</td>\n",
       "      <td>18249.00000</td>\n",
       "      <td>18249.00000</td>\n",
       "      <td>18249.00000</td>\n",
       "      <td>18249.00000</td>\n",
       "    </tr>\n",
       "    <tr>\n",
       "      <th>mean</th>\n",
       "      <td>1.40598</td>\n",
       "      <td>850644.01301</td>\n",
       "      <td>239639.20206</td>\n",
       "      <td>182194.68670</td>\n",
       "      <td>54338.08814</td>\n",
       "      <td>3106.42651</td>\n",
       "      <td>2016.14790</td>\n",
       "      <td>293008.42453</td>\n",
       "      <td>295154.56836</td>\n",
       "      <td>22839.73599</td>\n",
       "    </tr>\n",
       "    <tr>\n",
       "      <th>std</th>\n",
       "      <td>0.40268</td>\n",
       "      <td>3453545.35540</td>\n",
       "      <td>986242.39922</td>\n",
       "      <td>746178.51496</td>\n",
       "      <td>243965.96455</td>\n",
       "      <td>17692.89465</td>\n",
       "      <td>0.93994</td>\n",
       "      <td>1264989.08176</td>\n",
       "      <td>1204120.40114</td>\n",
       "      <td>107464.06844</td>\n",
       "    </tr>\n",
       "    <tr>\n",
       "      <th>min</th>\n",
       "      <td>0.44000</td>\n",
       "      <td>84.56000</td>\n",
       "      <td>0.00000</td>\n",
       "      <td>0.00000</td>\n",
       "      <td>0.00000</td>\n",
       "      <td>0.00000</td>\n",
       "      <td>2015.00000</td>\n",
       "      <td>0.00000</td>\n",
       "      <td>0.00000</td>\n",
       "      <td>0.00000</td>\n",
       "    </tr>\n",
       "    <tr>\n",
       "      <th>25%</th>\n",
       "      <td>1.10000</td>\n",
       "      <td>10838.58000</td>\n",
       "      <td>5088.64000</td>\n",
       "      <td>2849.42000</td>\n",
       "      <td>127.47000</td>\n",
       "      <td>0.00000</td>\n",
       "      <td>2015.00000</td>\n",
       "      <td>854.07000</td>\n",
       "      <td>3008.78000</td>\n",
       "      <td>0.00000</td>\n",
       "    </tr>\n",
       "    <tr>\n",
       "      <th>50%</th>\n",
       "      <td>1.37000</td>\n",
       "      <td>107376.76000</td>\n",
       "      <td>39743.83000</td>\n",
       "      <td>26362.82000</td>\n",
       "      <td>2647.71000</td>\n",
       "      <td>0.00000</td>\n",
       "      <td>2016.00000</td>\n",
       "      <td>8645.30000</td>\n",
       "      <td>29061.02000</td>\n",
       "      <td>184.99000</td>\n",
       "    </tr>\n",
       "    <tr>\n",
       "      <th>75%</th>\n",
       "      <td>1.66000</td>\n",
       "      <td>432962.29000</td>\n",
       "      <td>110783.37000</td>\n",
       "      <td>83337.67000</td>\n",
       "      <td>22029.25000</td>\n",
       "      <td>132.50000</td>\n",
       "      <td>2017.00000</td>\n",
       "      <td>111020.20000</td>\n",
       "      <td>150206.86000</td>\n",
       "      <td>6243.42000</td>\n",
       "    </tr>\n",
       "    <tr>\n",
       "      <th>max</th>\n",
       "      <td>3.25000</td>\n",
       "      <td>62505646.52000</td>\n",
       "      <td>19373134.37000</td>\n",
       "      <td>13384586.80000</td>\n",
       "      <td>5719096.61000</td>\n",
       "      <td>551693.65000</td>\n",
       "      <td>2018.00000</td>\n",
       "      <td>22743616.17000</td>\n",
       "      <td>20470572.61000</td>\n",
       "      <td>2546439.11000</td>\n",
       "    </tr>\n",
       "  </tbody>\n",
       "</table>\n",
       "</div>"
      ],
      "text/plain": [
       "      AveragePrice    Total Volume      Total Bags      Small Bags  \\\n",
       "count  18249.00000     18249.00000     18249.00000     18249.00000   \n",
       "mean       1.40598    850644.01301    239639.20206    182194.68670   \n",
       "std        0.40268   3453545.35540    986242.39922    746178.51496   \n",
       "min        0.44000        84.56000         0.00000         0.00000   \n",
       "25%        1.10000     10838.58000      5088.64000      2849.42000   \n",
       "50%        1.37000    107376.76000     39743.83000     26362.82000   \n",
       "75%        1.66000    432962.29000    110783.37000     83337.67000   \n",
       "max        3.25000  62505646.52000  19373134.37000  13384586.80000   \n",
       "\n",
       "          Large Bags   XLarge Bags         year             PL1  \\\n",
       "count    18249.00000   18249.00000  18249.00000     18249.00000   \n",
       "mean     54338.08814    3106.42651   2016.14790    293008.42453   \n",
       "std     243965.96455   17692.89465      0.93994   1264989.08176   \n",
       "min          0.00000       0.00000   2015.00000         0.00000   \n",
       "25%        127.47000       0.00000   2015.00000       854.07000   \n",
       "50%       2647.71000       0.00000   2016.00000      8645.30000   \n",
       "75%      22029.25000     132.50000   2017.00000    111020.20000   \n",
       "max    5719096.61000  551693.65000   2018.00000  22743616.17000   \n",
       "\n",
       "                  PL2            PL3  \n",
       "count     18249.00000    18249.00000  \n",
       "mean     295154.56836    22839.73599  \n",
       "std     1204120.40114   107464.06844  \n",
       "min           0.00000        0.00000  \n",
       "25%        3008.78000        0.00000  \n",
       "50%       29061.02000      184.99000  \n",
       "75%      150206.86000     6243.42000  \n",
       "max    20470572.61000  2546439.11000  "
      ]
     },
     "execution_count": 16,
     "metadata": {},
     "output_type": "execute_result"
    }
   ],
   "source": [
    "df.describe().apply(lambda s: s.apply('{0:.5f}'.format))"
   ]
  },
  {
   "cell_type": "markdown",
   "metadata": {},
   "source": [
    "As per above observation:\n",
    "\n",
    "Mean is higher than median. Hence skewness is present and it is right skewed. Standard deviation is very high in some of the columns and even big difference in 75 percentile and Max, indicating the presence of outliers. Min of 0 in XLarge bags."
   ]
  },
  {
   "cell_type": "code",
   "execution_count": 17,
   "metadata": {},
   "outputs": [
    {
     "data": {
      "text/plain": [
       "conventional    9126\n",
       "organic         9123\n",
       "Name: type, dtype: int64"
      ]
     },
     "execution_count": 17,
     "metadata": {},
     "output_type": "execute_result"
    }
   ],
   "source": [
    "df['type'].value_counts()"
   ]
  },
  {
   "cell_type": "code",
   "execution_count": 18,
   "metadata": {},
   "outputs": [
    {
     "data": {
      "text/plain": [
       "2017    5722\n",
       "2016    5616\n",
       "2015    5615\n",
       "2018    1296\n",
       "Name: year, dtype: int64"
      ]
     },
     "execution_count": 18,
     "metadata": {},
     "output_type": "execute_result"
    }
   ],
   "source": [
    "df['year'].value_counts()"
   ]
  },
  {
   "cell_type": "markdown",
   "metadata": {},
   "source": [
    "We have data only for 4 years 2015,2016,2017 & 2018"
   ]
  },
  {
   "cell_type": "code",
   "execution_count": 19,
   "metadata": {},
   "outputs": [],
   "source": [
    "df.Date = df.Date.apply(pd.to_datetime)\n",
    "df['Month'] = df['Date'].apply(lambda x:x.month)\n",
    "df.drop('Date',axis=1,inplace=True)\n",
    "df.Month = df.Month.map({1:'JAN',2:'FEB',3:'MARCH',4:'APRIL',5:'MAY',6:'JUNE',7:'JULY',8:'AUG',9:'SEPT',10:'OCT',11:'NOV',12:'DEC'})"
   ]
  },
  {
   "cell_type": "code",
   "execution_count": 20,
   "metadata": {},
   "outputs": [
    {
     "data": {
      "text/html": [
       "<div>\n",
       "<style scoped>\n",
       "    .dataframe tbody tr th:only-of-type {\n",
       "        vertical-align: middle;\n",
       "    }\n",
       "\n",
       "    .dataframe tbody tr th {\n",
       "        vertical-align: top;\n",
       "    }\n",
       "\n",
       "    .dataframe thead th {\n",
       "        text-align: right;\n",
       "    }\n",
       "</style>\n",
       "<table border=\"1\" class=\"dataframe\">\n",
       "  <thead>\n",
       "    <tr style=\"text-align: right;\">\n",
       "      <th></th>\n",
       "      <th>AveragePrice</th>\n",
       "      <th>Total Volume</th>\n",
       "      <th>Total Bags</th>\n",
       "      <th>Small Bags</th>\n",
       "      <th>Large Bags</th>\n",
       "      <th>XLarge Bags</th>\n",
       "      <th>type</th>\n",
       "      <th>year</th>\n",
       "      <th>region</th>\n",
       "      <th>PL1</th>\n",
       "      <th>PL2</th>\n",
       "      <th>PL3</th>\n",
       "      <th>Month</th>\n",
       "    </tr>\n",
       "  </thead>\n",
       "  <tbody>\n",
       "    <tr>\n",
       "      <th>0</th>\n",
       "      <td>1.33</td>\n",
       "      <td>64236.62</td>\n",
       "      <td>8696.87</td>\n",
       "      <td>8603.62</td>\n",
       "      <td>93.25</td>\n",
       "      <td>0.0</td>\n",
       "      <td>conventional</td>\n",
       "      <td>2015</td>\n",
       "      <td>Albany</td>\n",
       "      <td>1036.74</td>\n",
       "      <td>54454.85</td>\n",
       "      <td>48.16</td>\n",
       "      <td>DEC</td>\n",
       "    </tr>\n",
       "    <tr>\n",
       "      <th>1</th>\n",
       "      <td>1.35</td>\n",
       "      <td>54876.98</td>\n",
       "      <td>9505.56</td>\n",
       "      <td>9408.07</td>\n",
       "      <td>97.49</td>\n",
       "      <td>0.0</td>\n",
       "      <td>conventional</td>\n",
       "      <td>2015</td>\n",
       "      <td>Albany</td>\n",
       "      <td>674.28</td>\n",
       "      <td>44638.81</td>\n",
       "      <td>58.33</td>\n",
       "      <td>DEC</td>\n",
       "    </tr>\n",
       "    <tr>\n",
       "      <th>2</th>\n",
       "      <td>0.93</td>\n",
       "      <td>118220.22</td>\n",
       "      <td>8145.35</td>\n",
       "      <td>8042.21</td>\n",
       "      <td>103.14</td>\n",
       "      <td>0.0</td>\n",
       "      <td>conventional</td>\n",
       "      <td>2015</td>\n",
       "      <td>Albany</td>\n",
       "      <td>794.70</td>\n",
       "      <td>109149.67</td>\n",
       "      <td>130.50</td>\n",
       "      <td>DEC</td>\n",
       "    </tr>\n",
       "    <tr>\n",
       "      <th>3</th>\n",
       "      <td>1.08</td>\n",
       "      <td>78992.15</td>\n",
       "      <td>5811.16</td>\n",
       "      <td>5677.40</td>\n",
       "      <td>133.76</td>\n",
       "      <td>0.0</td>\n",
       "      <td>conventional</td>\n",
       "      <td>2015</td>\n",
       "      <td>Albany</td>\n",
       "      <td>1132.00</td>\n",
       "      <td>71976.41</td>\n",
       "      <td>72.58</td>\n",
       "      <td>DEC</td>\n",
       "    </tr>\n",
       "    <tr>\n",
       "      <th>4</th>\n",
       "      <td>1.28</td>\n",
       "      <td>51039.60</td>\n",
       "      <td>6183.95</td>\n",
       "      <td>5986.26</td>\n",
       "      <td>197.69</td>\n",
       "      <td>0.0</td>\n",
       "      <td>conventional</td>\n",
       "      <td>2015</td>\n",
       "      <td>Albany</td>\n",
       "      <td>941.48</td>\n",
       "      <td>43838.39</td>\n",
       "      <td>75.78</td>\n",
       "      <td>NOV</td>\n",
       "    </tr>\n",
       "    <tr>\n",
       "      <th>...</th>\n",
       "      <td>...</td>\n",
       "      <td>...</td>\n",
       "      <td>...</td>\n",
       "      <td>...</td>\n",
       "      <td>...</td>\n",
       "      <td>...</td>\n",
       "      <td>...</td>\n",
       "      <td>...</td>\n",
       "      <td>...</td>\n",
       "      <td>...</td>\n",
       "      <td>...</td>\n",
       "      <td>...</td>\n",
       "      <td>...</td>\n",
       "    </tr>\n",
       "    <tr>\n",
       "      <th>18244</th>\n",
       "      <td>1.63</td>\n",
       "      <td>17074.83</td>\n",
       "      <td>13498.67</td>\n",
       "      <td>13066.82</td>\n",
       "      <td>431.85</td>\n",
       "      <td>0.0</td>\n",
       "      <td>organic</td>\n",
       "      <td>2018</td>\n",
       "      <td>WestTexNewMexico</td>\n",
       "      <td>2046.96</td>\n",
       "      <td>1529.20</td>\n",
       "      <td>0.00</td>\n",
       "      <td>FEB</td>\n",
       "    </tr>\n",
       "    <tr>\n",
       "      <th>18245</th>\n",
       "      <td>1.71</td>\n",
       "      <td>13888.04</td>\n",
       "      <td>9264.84</td>\n",
       "      <td>8940.04</td>\n",
       "      <td>324.80</td>\n",
       "      <td>0.0</td>\n",
       "      <td>organic</td>\n",
       "      <td>2018</td>\n",
       "      <td>WestTexNewMexico</td>\n",
       "      <td>1191.70</td>\n",
       "      <td>3431.50</td>\n",
       "      <td>0.00</td>\n",
       "      <td>JAN</td>\n",
       "    </tr>\n",
       "    <tr>\n",
       "      <th>18246</th>\n",
       "      <td>1.87</td>\n",
       "      <td>13766.76</td>\n",
       "      <td>9394.11</td>\n",
       "      <td>9351.80</td>\n",
       "      <td>42.31</td>\n",
       "      <td>0.0</td>\n",
       "      <td>organic</td>\n",
       "      <td>2018</td>\n",
       "      <td>WestTexNewMexico</td>\n",
       "      <td>1191.92</td>\n",
       "      <td>2452.79</td>\n",
       "      <td>727.94</td>\n",
       "      <td>JAN</td>\n",
       "    </tr>\n",
       "    <tr>\n",
       "      <th>18247</th>\n",
       "      <td>1.93</td>\n",
       "      <td>16205.22</td>\n",
       "      <td>10969.54</td>\n",
       "      <td>10919.54</td>\n",
       "      <td>50.00</td>\n",
       "      <td>0.0</td>\n",
       "      <td>organic</td>\n",
       "      <td>2018</td>\n",
       "      <td>WestTexNewMexico</td>\n",
       "      <td>1527.63</td>\n",
       "      <td>2981.04</td>\n",
       "      <td>727.01</td>\n",
       "      <td>JAN</td>\n",
       "    </tr>\n",
       "    <tr>\n",
       "      <th>18248</th>\n",
       "      <td>1.62</td>\n",
       "      <td>17489.58</td>\n",
       "      <td>12014.15</td>\n",
       "      <td>11988.14</td>\n",
       "      <td>26.01</td>\n",
       "      <td>0.0</td>\n",
       "      <td>organic</td>\n",
       "      <td>2018</td>\n",
       "      <td>WestTexNewMexico</td>\n",
       "      <td>2894.77</td>\n",
       "      <td>2356.13</td>\n",
       "      <td>224.53</td>\n",
       "      <td>JAN</td>\n",
       "    </tr>\n",
       "  </tbody>\n",
       "</table>\n",
       "<p>18249 rows × 13 columns</p>\n",
       "</div>"
      ],
      "text/plain": [
       "       AveragePrice  Total Volume  Total Bags  Small Bags  Large Bags  \\\n",
       "0              1.33      64236.62     8696.87     8603.62       93.25   \n",
       "1              1.35      54876.98     9505.56     9408.07       97.49   \n",
       "2              0.93     118220.22     8145.35     8042.21      103.14   \n",
       "3              1.08      78992.15     5811.16     5677.40      133.76   \n",
       "4              1.28      51039.60     6183.95     5986.26      197.69   \n",
       "...             ...           ...         ...         ...         ...   \n",
       "18244          1.63      17074.83    13498.67    13066.82      431.85   \n",
       "18245          1.71      13888.04     9264.84     8940.04      324.80   \n",
       "18246          1.87      13766.76     9394.11     9351.80       42.31   \n",
       "18247          1.93      16205.22    10969.54    10919.54       50.00   \n",
       "18248          1.62      17489.58    12014.15    11988.14       26.01   \n",
       "\n",
       "       XLarge Bags          type  year            region      PL1        PL2  \\\n",
       "0              0.0  conventional  2015            Albany  1036.74   54454.85   \n",
       "1              0.0  conventional  2015            Albany   674.28   44638.81   \n",
       "2              0.0  conventional  2015            Albany   794.70  109149.67   \n",
       "3              0.0  conventional  2015            Albany  1132.00   71976.41   \n",
       "4              0.0  conventional  2015            Albany   941.48   43838.39   \n",
       "...            ...           ...   ...               ...      ...        ...   \n",
       "18244          0.0       organic  2018  WestTexNewMexico  2046.96    1529.20   \n",
       "18245          0.0       organic  2018  WestTexNewMexico  1191.70    3431.50   \n",
       "18246          0.0       organic  2018  WestTexNewMexico  1191.92    2452.79   \n",
       "18247          0.0       organic  2018  WestTexNewMexico  1527.63    2981.04   \n",
       "18248          0.0       organic  2018  WestTexNewMexico  2894.77    2356.13   \n",
       "\n",
       "          PL3 Month  \n",
       "0       48.16   DEC  \n",
       "1       58.33   DEC  \n",
       "2      130.50   DEC  \n",
       "3       72.58   DEC  \n",
       "4       75.78   NOV  \n",
       "...       ...   ...  \n",
       "18244    0.00   FEB  \n",
       "18245    0.00   JAN  \n",
       "18246  727.94   JAN  \n",
       "18247  727.01   JAN  \n",
       "18248  224.53   JAN  \n",
       "\n",
       "[18249 rows x 13 columns]"
      ]
     },
     "execution_count": 20,
     "metadata": {},
     "output_type": "execute_result"
    }
   ],
   "source": [
    "df"
   ]
  },
  {
   "cell_type": "code",
   "execution_count": 21,
   "metadata": {},
   "outputs": [
    {
     "data": {
      "text/plain": [
       "<AxesSubplot:xlabel='year', ylabel='AveragePrice'>"
      ]
     },
     "execution_count": 21,
     "metadata": {},
     "output_type": "execute_result"
    },
    {
     "data": {
      "image/png": "[encoded data removed]",
      "text/plain": [
       "<Figure size 432x288 with 1 Axes>"
      ]
     },
     "metadata": {
      "needs_background": "light"
     },
     "output_type": "display_data"
    }
   ],
   "source": [
    "sns.barplot(x='year',y='AveragePrice',data=df)"
   ]
  },
  {
   "cell_type": "markdown",
   "metadata": {},
   "source": [
    "Prices were highest in 2017"
   ]
  },
  {
   "cell_type": "code",
   "execution_count": 22,
   "metadata": {},
   "outputs": [
    {
     "data": {
      "text/plain": [
       "<AxesSubplot:xlabel='Month', ylabel='AveragePrice'>"
      ]
     },
     "execution_count": 22,
     "metadata": {},
     "output_type": "execute_result"
    },
    {
     "data": {
      "image/png": "[encoded data removed]",
      "text/plain": [
       "<Figure size 432x288 with 1 Axes>"
      ]
     },
     "metadata": {
      "needs_background": "light"
     },
     "output_type": "display_data"
    }
   ],
   "source": [
    "sns.barplot(x='Month',y='AveragePrice',data=df)"
   ]
  },
  {
   "cell_type": "markdown",
   "metadata": {},
   "source": [
    "Average price remains almost the same."
   ]
  },
  {
   "cell_type": "code",
   "execution_count": 23,
   "metadata": {},
   "outputs": [
    {
     "data": {
      "text/plain": [
       "<AxesSubplot:xlabel='year', ylabel='Total Volume'>"
      ]
     },
     "execution_count": 23,
     "metadata": {},
     "output_type": "execute_result"
    },
    {
     "data": {
      "image/png": "[encoded data removed]",
      "text/plain": [
       "<Figure size 432x288 with 1 Axes>"
      ]
     },
     "metadata": {
      "needs_background": "light"
     },
     "output_type": "display_data"
    }
   ],
   "source": [
    "sns.barplot(x='year',y='Total Volume',data=df)"
   ]
  },
  {
   "cell_type": "markdown",
   "metadata": {},
   "source": [
    "Volume is increasing as the years graduate."
   ]
  },
  {
   "cell_type": "code",
   "execution_count": 24,
   "metadata": {},
   "outputs": [
    {
     "data": {
      "text/plain": [
       "<AxesSubplot:xlabel='Month', ylabel='Total Volume'>"
      ]
     },
     "execution_count": 24,
     "metadata": {},
     "output_type": "execute_result"
    },
    {
     "data": {
      "image/png": "[encoded data removed]",
      "text/plain": [
       "<Figure size 432x288 with 1 Axes>"
      ]
     },
     "metadata": {
      "needs_background": "light"
     },
     "output_type": "display_data"
    }
   ],
   "source": [
    "sns.barplot(x='Month',y='Total Volume',data=df)"
   ]
  },
  {
   "cell_type": "markdown",
   "metadata": {},
   "source": [
    "Volume is high in FEB, May and June. Low Oct, Nov has low volume of sale"
   ]
  },
  {
   "cell_type": "code",
   "execution_count": 25,
   "metadata": {},
   "outputs": [
    {
     "data": {
      "text/plain": [
       "<AxesSubplot:xlabel='Month,year'>"
      ]
     },
     "execution_count": 25,
     "metadata": {},
     "output_type": "execute_result"
    },
    {
     "data": {
      "image/png": "[encoded data removed]",
      "text/plain": [
       "<Figure size 1080x720 with 1 Axes>"
      ]
     },
     "metadata": {
      "needs_background": "light"
     },
     "output_type": "display_data"
    }
   ],
   "source": [
    "df.groupby(['Month','year']).agg({'AveragePrice':np.mean}).plot.bar(figsize=(15, 10))"
   ]
  },
  {
   "cell_type": "markdown",
   "metadata": {},
   "source": [
    "Price was highest in Sept 2017 and least in May 2016"
   ]
  },
  {
   "cell_type": "code",
   "execution_count": 26,
   "metadata": {},
   "outputs": [
    {
     "data": {
      "text/plain": [
       "<AxesSubplot:xlabel='year', ylabel='PL1'>"
      ]
     },
     "execution_count": 26,
     "metadata": {},
     "output_type": "execute_result"
    },
    {
     "data": {
      "image/png": "[encoded data removed]",
      "text/plain": [
       "<Figure size 432x288 with 1 Axes>"
      ]
     },
     "metadata": {
      "needs_background": "light"
     },
     "output_type": "display_data"
    }
   ],
   "source": [
    "sns.barplot(y='PL1',x='year',data=df)"
   ]
  },
  {
   "cell_type": "markdown",
   "metadata": {},
   "source": [
    "Product label 1 has increased from 2015"
   ]
  },
  {
   "cell_type": "code",
   "execution_count": 27,
   "metadata": {},
   "outputs": [
    {
     "data": {
      "text/plain": [
       "<AxesSubplot:xlabel='year', ylabel='PL2'>"
      ]
     },
     "execution_count": 27,
     "metadata": {},
     "output_type": "execute_result"
    },
    {
     "data": {
      "image/png": "[encoded data removed]",
      "text/plain": [
       "<Figure size 432x288 with 1 Axes>"
      ]
     },
     "metadata": {
      "needs_background": "light"
     },
     "output_type": "display_data"
    }
   ],
   "source": [
    "sns.barplot(y='PL2',x='year',data=df)"
   ]
  },
  {
   "cell_type": "markdown",
   "metadata": {},
   "source": [
    "Product label 2 has decreased from 2015 and increased in 2018"
   ]
  },
  {
   "cell_type": "code",
   "execution_count": 28,
   "metadata": {},
   "outputs": [
    {
     "data": {
      "text/plain": [
       "<AxesSubplot:xlabel='year', ylabel='PL3'>"
      ]
     },
     "execution_count": 28,
     "metadata": {},
     "output_type": "execute_result"
    },
    {
     "data": {
      "image/png": "[encoded data removed]",
      "text/plain": [
       "<Figure size 432x288 with 1 Axes>"
      ]
     },
     "metadata": {
      "needs_background": "light"
     },
     "output_type": "display_data"
    }
   ],
   "source": [
    "sns.barplot(y='PL3',x='year',data=df)"
   ]
  },
  {
   "cell_type": "markdown",
   "metadata": {},
   "source": [
    "Product label 3 has seen increase from 2015 to 2016 & decreased in 2017 & slight increase in 2018"
   ]
  },
  {
   "cell_type": "code",
   "execution_count": 29,
   "metadata": {},
   "outputs": [
    {
     "data": {
      "image/png": "[encoded data removed]",
      "text/plain": [
       "<Figure size 1224x576 with 1 Axes>"
      ]
     },
     "metadata": {
      "needs_background": "light"
     },
     "output_type": "display_data"
    }
   ],
   "source": [
    "plt.figure(figsize=(17,8))\n",
    "sns.barplot(x='region',y='AveragePrice',data=df)\n",
    "plt.xticks(rotation=90)\n",
    "plt.show()"
   ]
  },
  {
   "cell_type": "markdown",
   "metadata": {},
   "source": [
    "Average Price is higher is SanFrancisco followed by HartfordSpringfield, NewYork, Average price is very low in Houston"
   ]
  },
  {
   "cell_type": "code",
   "execution_count": 30,
   "metadata": {},
   "outputs": [
    {
     "data": {
      "image/png": "[encoded data removed]",
      "text/plain": [
       "<Figure size 1224x576 with 1 Axes>"
      ]
     },
     "metadata": {
      "needs_background": "light"
     },
     "output_type": "display_data"
    }
   ],
   "source": [
    "plt.figure(figsize=(17,8))\n",
    "sns.barplot(x='region',y='Total Volume',data=df)\n",
    "plt.xticks(rotation=90)\n",
    "plt.show()"
   ]
  },
  {
   "cell_type": "code",
   "execution_count": 31,
   "metadata": {},
   "outputs": [
    {
     "data": {
      "text/plain": [
       "<AxesSubplot:xlabel='region,year'>"
      ]
     },
     "execution_count": 31,
     "metadata": {},
     "output_type": "execute_result"
    },
    {
     "data": {
      "image/png": "[encoded data removed]",
      "text/plain": [
       "<Figure size 1080x720 with 1 Axes>"
      ]
     },
     "metadata": {
      "needs_background": "light"
     },
     "output_type": "display_data"
    }
   ],
   "source": [
    "df.groupby(['region','year']).agg({'AveragePrice':np.mean}).plot.bar(figsize=(15, 10))"
   ]
  },
  {
   "cell_type": "code",
   "execution_count": 32,
   "metadata": {},
   "outputs": [
    {
     "data": {
      "image/png": "[encoded data removed]",
      "text/plain": [
       "<Figure size 432x288 with 1 Axes>"
      ]
     },
     "metadata": {
      "needs_background": "light"
     },
     "output_type": "display_data"
    }
   ],
   "source": [
    "sns.lineplot(x=\"year\", y=\"AveragePrice\", data=df)\n",
    "plt.show()"
   ]
  },
  {
   "cell_type": "markdown",
   "metadata": {},
   "source": [
    "We see Significant rise in 2017 and then decline"
   ]
  },
  {
   "cell_type": "code",
   "execution_count": 33,
   "metadata": {},
   "outputs": [
    {
     "data": {
      "image/png": "[encoded data removed]",
      "text/plain": [
       "<Figure size 432x288 with 1 Axes>"
      ]
     },
     "metadata": {
      "needs_background": "light"
     },
     "output_type": "display_data"
    }
   ],
   "source": [
    "sns.lineplot(x=\"PL1\", y=\"AveragePrice\", data=df)\n",
    "plt.show()"
   ]
  },
  {
   "cell_type": "code",
   "execution_count": 34,
   "metadata": {},
   "outputs": [
    {
     "data": {
      "image/png": "[encoded data removed]",
      "text/plain": [
       "<Figure size 432x288 with 1 Axes>"
      ]
     },
     "metadata": {
      "needs_background": "light"
     },
     "output_type": "display_data"
    }
   ],
   "source": [
    "sns.lineplot(x=\"PL2\", y=\"AveragePrice\", data=df)\n",
    "plt.show()"
   ]
  },
  {
   "cell_type": "code",
   "execution_count": 35,
   "metadata": {
    "scrolled": true
   },
   "outputs": [
    {
     "data": {
      "image/png": "[encoded data removed]",
      "text/plain": [
       "<Figure size 432x288 with 1 Axes>"
      ]
     },
     "metadata": {
      "needs_background": "light"
     },
     "output_type": "display_data"
    }
   ],
   "source": [
    "sns.lineplot(x=\"PL3\", y=\"AveragePrice\", data=df)\n",
    "plt.show()"
   ]
  },
  {
   "cell_type": "markdown",
   "metadata": {},
   "source": [
    "Above line plots confirm that PL1,PL2,PL3 price has decrease. We also observe that volume has increased, hence the decrease in Avg price"
   ]
  },
  {
   "cell_type": "code",
   "execution_count": 36,
   "metadata": {},
   "outputs": [
    {
     "data": {
      "text/html": [
       "<div>\n",
       "<style scoped>\n",
       "    .dataframe tbody tr th:only-of-type {\n",
       "        vertical-align: middle;\n",
       "    }\n",
       "\n",
       "    .dataframe tbody tr th {\n",
       "        vertical-align: top;\n",
       "    }\n",
       "\n",
       "    .dataframe thead th {\n",
       "        text-align: right;\n",
       "    }\n",
       "</style>\n",
       "<table border=\"1\" class=\"dataframe\">\n",
       "  <thead>\n",
       "    <tr style=\"text-align: right;\">\n",
       "      <th></th>\n",
       "      <th>AveragePrice</th>\n",
       "      <th>Total Volume</th>\n",
       "      <th>Total Bags</th>\n",
       "      <th>Small Bags</th>\n",
       "      <th>Large Bags</th>\n",
       "      <th>XLarge Bags</th>\n",
       "      <th>year</th>\n",
       "      <th>PL1</th>\n",
       "      <th>PL2</th>\n",
       "      <th>PL3</th>\n",
       "    </tr>\n",
       "  </thead>\n",
       "  <tbody>\n",
       "    <tr>\n",
       "      <th>AveragePrice</th>\n",
       "      <td>1.000000</td>\n",
       "      <td>-0.192752</td>\n",
       "      <td>-0.177088</td>\n",
       "      <td>-0.174730</td>\n",
       "      <td>-0.172940</td>\n",
       "      <td>-0.117592</td>\n",
       "      <td>0.093197</td>\n",
       "      <td>-0.208317</td>\n",
       "      <td>-0.172928</td>\n",
       "      <td>-0.179446</td>\n",
       "    </tr>\n",
       "    <tr>\n",
       "      <th>Total Volume</th>\n",
       "      <td>-0.192752</td>\n",
       "      <td>1.000000</td>\n",
       "      <td>0.963047</td>\n",
       "      <td>0.967238</td>\n",
       "      <td>0.880640</td>\n",
       "      <td>0.747157</td>\n",
       "      <td>0.017193</td>\n",
       "      <td>0.977863</td>\n",
       "      <td>0.974181</td>\n",
       "      <td>0.872202</td>\n",
       "    </tr>\n",
       "    <tr>\n",
       "      <th>Total Bags</th>\n",
       "      <td>-0.177088</td>\n",
       "      <td>0.963047</td>\n",
       "      <td>1.000000</td>\n",
       "      <td>0.994335</td>\n",
       "      <td>0.943009</td>\n",
       "      <td>0.804233</td>\n",
       "      <td>0.071552</td>\n",
       "      <td>0.920057</td>\n",
       "      <td>0.905787</td>\n",
       "      <td>0.792314</td>\n",
       "    </tr>\n",
       "    <tr>\n",
       "      <th>Small Bags</th>\n",
       "      <td>-0.174730</td>\n",
       "      <td>0.967238</td>\n",
       "      <td>0.994335</td>\n",
       "      <td>1.000000</td>\n",
       "      <td>0.902589</td>\n",
       "      <td>0.806845</td>\n",
       "      <td>0.063915</td>\n",
       "      <td>0.925280</td>\n",
       "      <td>0.916031</td>\n",
       "      <td>0.802733</td>\n",
       "    </tr>\n",
       "    <tr>\n",
       "      <th>Large Bags</th>\n",
       "      <td>-0.172940</td>\n",
       "      <td>0.880640</td>\n",
       "      <td>0.943009</td>\n",
       "      <td>0.902589</td>\n",
       "      <td>1.000000</td>\n",
       "      <td>0.710858</td>\n",
       "      <td>0.087891</td>\n",
       "      <td>0.838645</td>\n",
       "      <td>0.810015</td>\n",
       "      <td>0.698471</td>\n",
       "    </tr>\n",
       "    <tr>\n",
       "      <th>XLarge Bags</th>\n",
       "      <td>-0.117592</td>\n",
       "      <td>0.747157</td>\n",
       "      <td>0.804233</td>\n",
       "      <td>0.806845</td>\n",
       "      <td>0.710858</td>\n",
       "      <td>1.000000</td>\n",
       "      <td>0.081033</td>\n",
       "      <td>0.699377</td>\n",
       "      <td>0.688809</td>\n",
       "      <td>0.679861</td>\n",
       "    </tr>\n",
       "    <tr>\n",
       "      <th>year</th>\n",
       "      <td>0.093197</td>\n",
       "      <td>0.017193</td>\n",
       "      <td>0.071552</td>\n",
       "      <td>0.063915</td>\n",
       "      <td>0.087891</td>\n",
       "      <td>0.081033</td>\n",
       "      <td>1.000000</td>\n",
       "      <td>0.003353</td>\n",
       "      <td>-0.009559</td>\n",
       "      <td>-0.036531</td>\n",
       "    </tr>\n",
       "    <tr>\n",
       "      <th>PL1</th>\n",
       "      <td>-0.208317</td>\n",
       "      <td>0.977863</td>\n",
       "      <td>0.920057</td>\n",
       "      <td>0.925280</td>\n",
       "      <td>0.838645</td>\n",
       "      <td>0.699377</td>\n",
       "      <td>0.003353</td>\n",
       "      <td>1.000000</td>\n",
       "      <td>0.926110</td>\n",
       "      <td>0.833389</td>\n",
       "    </tr>\n",
       "    <tr>\n",
       "      <th>PL2</th>\n",
       "      <td>-0.172928</td>\n",
       "      <td>0.974181</td>\n",
       "      <td>0.905787</td>\n",
       "      <td>0.916031</td>\n",
       "      <td>0.810015</td>\n",
       "      <td>0.688809</td>\n",
       "      <td>-0.009559</td>\n",
       "      <td>0.926110</td>\n",
       "      <td>1.000000</td>\n",
       "      <td>0.887855</td>\n",
       "    </tr>\n",
       "    <tr>\n",
       "      <th>PL3</th>\n",
       "      <td>-0.179446</td>\n",
       "      <td>0.872202</td>\n",
       "      <td>0.792314</td>\n",
       "      <td>0.802733</td>\n",
       "      <td>0.698471</td>\n",
       "      <td>0.679861</td>\n",
       "      <td>-0.036531</td>\n",
       "      <td>0.833389</td>\n",
       "      <td>0.887855</td>\n",
       "      <td>1.000000</td>\n",
       "    </tr>\n",
       "  </tbody>\n",
       "</table>\n",
       "</div>"
      ],
      "text/plain": [
       "              AveragePrice  Total Volume  Total Bags  Small Bags  Large Bags  \\\n",
       "AveragePrice      1.000000     -0.192752   -0.177088   -0.174730   -0.172940   \n",
       "Total Volume     -0.192752      1.000000    0.963047    0.967238    0.880640   \n",
       "Total Bags       -0.177088      0.963047    1.000000    0.994335    0.943009   \n",
       "Small Bags       -0.174730      0.967238    0.994335    1.000000    0.902589   \n",
       "Large Bags       -0.172940      0.880640    0.943009    0.902589    1.000000   \n",
       "XLarge Bags      -0.117592      0.747157    0.804233    0.806845    0.710858   \n",
       "year              0.093197      0.017193    0.071552    0.063915    0.087891   \n",
       "PL1              -0.208317      0.977863    0.920057    0.925280    0.838645   \n",
       "PL2              -0.172928      0.974181    0.905787    0.916031    0.810015   \n",
       "PL3              -0.179446      0.872202    0.792314    0.802733    0.698471   \n",
       "\n",
       "              XLarge Bags      year       PL1       PL2       PL3  \n",
       "AveragePrice    -0.117592  0.093197 -0.208317 -0.172928 -0.179446  \n",
       "Total Volume     0.747157  0.017193  0.977863  0.974181  0.872202  \n",
       "Total Bags       0.804233  0.071552  0.920057  0.905787  0.792314  \n",
       "Small Bags       0.806845  0.063915  0.925280  0.916031  0.802733  \n",
       "Large Bags       0.710858  0.087891  0.838645  0.810015  0.698471  \n",
       "XLarge Bags      1.000000  0.081033  0.699377  0.688809  0.679861  \n",
       "year             0.081033  1.000000  0.003353 -0.009559 -0.036531  \n",
       "PL1              0.699377  0.003353  1.000000  0.926110  0.833389  \n",
       "PL2              0.688809 -0.009559  0.926110  1.000000  0.887855  \n",
       "PL3              0.679861 -0.036531  0.833389  0.887855  1.000000  "
      ]
     },
     "execution_count": 36,
     "metadata": {},
     "output_type": "execute_result"
    }
   ],
   "source": [
    "df.corr()"
   ]
  },
  {
   "cell_type": "code",
   "execution_count": 37,
   "metadata": {},
   "outputs": [
    {
     "data": {
      "text/plain": [
       "<AxesSubplot:>"
      ]
     },
     "execution_count": 37,
     "metadata": {},
     "output_type": "execute_result"
    },
    {
     "data": {
      "image/png": "[encoded data removed]",
      "text/plain": [
       "<Figure size 1080x720 with 2 Axes>"
      ]
     },
     "metadata": {
      "needs_background": "light"
     },
     "output_type": "display_data"
    }
   ],
   "source": [
    "df.corr()\n",
    "plt.figure(figsize=(15,10))\n",
    "sns.heatmap(df.corr(),annot=True,cmap=\"Greens\")"
   ]
  },
  {
   "cell_type": "markdown",
   "metadata": {},
   "source": [
    "We can see that Total Volume is highly co related with almost all the features. Total Bags, Small Bags and Large Bags are high corelated among themselves as well as with Total Volume."
   ]
  },
  {
   "cell_type": "code",
   "execution_count": 38,
   "metadata": {},
   "outputs": [],
   "source": [
    "columns=['AveragePrice','Total Volume','Total Bags','Small Bags','Large Bags','XLarge Bags','PL1','PL2','PL3']"
   ]
  },
  {
   "cell_type": "code",
   "execution_count": 39,
   "metadata": {},
   "outputs": [],
   "source": [
    "df.drop(['type'],axis=1,inplace=True)"
   ]
  },
  {
   "cell_type": "code",
   "execution_count": 40,
   "metadata": {},
   "outputs": [
    {
     "data": {
      "image/png": "[encoded data removed]",
      "text/plain": [
       "<Figure size 432x288 with 1 Axes>"
      ]
     },
     "metadata": {
      "needs_background": "light"
     },
     "output_type": "display_data"
    },
    {
     "data": {
      "image/png": "[encoded data removed]",
      "text/plain": [
       "<Figure size 432x288 with 1 Axes>"
      ]
     },
     "metadata": {
      "needs_background": "light"
     },
     "output_type": "display_data"
    },
    {
     "data": {
      "image/png": "[encoded data removed]",
      "text/plain": [
       "<Figure size 432x288 with 1 Axes>"
      ]
     },
     "metadata": {
      "needs_background": "light"
     },
     "output_type": "display_data"
    },
    {
     "data": {
      "image/png": "[encoded data removed]",
      "text/plain": [
       "<Figure size 432x288 with 1 Axes>"
      ]
     },
     "metadata": {
      "needs_background": "light"
     },
     "output_type": "display_data"
    },
    {
     "data": {
      "image/png": "[encoded data removed]",
      "text/plain": [
       "<Figure size 432x288 with 1 Axes>"
      ]
     },
     "metadata": {
      "needs_background": "light"
     },
     "output_type": "display_data"
    },
    {
     "data": {
      "image/png": "[encoded data removed]",
      "text/plain": [
       "<Figure size 432x288 with 1 Axes>"
      ]
     },
     "metadata": {
      "needs_background": "light"
     },
     "output_type": "display_data"
    },
    {
     "data": {
      "image/png": "[encoded data removed]",
      "text/plain": [
       "<Figure size 432x288 with 1 Axes>"
      ]
     },
     "metadata": {
      "needs_background": "light"
     },
     "output_type": "display_data"
    },
    {
     "data": {
      "image/png": "[encoded data removed]",
      "text/plain": [
       "<Figure size 432x288 with 1 Axes>"
      ]
     },
     "metadata": {
      "needs_background": "light"
     },
     "output_type": "display_data"
    },
    {
     "data": {
      "image/png": "[encoded data removed]",
      "text/plain": [
       "<Figure size 432x288 with 1 Axes>"
      ]
     },
     "metadata": {
      "needs_background": "light"
     },
     "output_type": "display_data"
    }
   ],
   "source": [
    "for i in columns:\n",
    "    sns.distplot(df[i])\n",
    "    plt.show()"
   ]
  },
  {
   "cell_type": "markdown",
   "metadata": {},
   "source": [
    "Most of the features are left skewed indicating the presence of outliers."
   ]
  },
  {
   "cell_type": "code",
   "execution_count": 41,
   "metadata": {},
   "outputs": [
    {
     "data": {
      "image/png": "[encoded data removed]",
      "text/plain": [
       "<Figure size 432x288 with 1 Axes>"
      ]
     },
     "metadata": {
      "needs_background": "light"
     },
     "output_type": "display_data"
    },
    {
     "data": {
      "image/png": "[encoded data removed]",
      "text/plain": [
       "<Figure size 432x288 with 1 Axes>"
      ]
     },
     "metadata": {
      "needs_background": "light"
     },
     "output_type": "display_data"
    },
    {
     "data": {
      "image/png": "[encoded data removed]",
      "text/plain": [
       "<Figure size 432x288 with 1 Axes>"
      ]
     },
     "metadata": {
      "needs_background": "light"
     },
     "output_type": "display_data"
    },
    {
     "data": {
      "image/png": "[encoded data removed]",
      "text/plain": [
       "<Figure size 432x288 with 1 Axes>"
      ]
     },
     "metadata": {
      "needs_background": "light"
     },
     "output_type": "display_data"
    },
    {
     "data": {
      "image/png": "[encoded data removed]",
      "text/plain": [
       "<Figure size 432x288 with 1 Axes>"
      ]
     },
     "metadata": {
      "needs_background": "light"
     },
     "output_type": "display_data"
    },
    {
     "data": {
      "image/png": "[encoded data removed]",
      "text/plain": [
       "<Figure size 432x288 with 1 Axes>"
      ]
     },
     "metadata": {
      "needs_background": "light"
     },
     "output_type": "display_data"
    },
    {
     "data": {
      "image/png": "[encoded data removed]",
      "text/plain": [
       "<Figure size 432x288 with 1 Axes>"
      ]
     },
     "metadata": {
      "needs_background": "light"
     },
     "output_type": "display_data"
    },
    {
     "data": {
      "image/png": "[encoded data removed]",
      "text/plain": [
       "<Figure size 432x288 with 1 Axes>"
      ]
     },
     "metadata": {
      "needs_background": "light"
     },
     "output_type": "display_data"
    },
    {
     "data": {
      "image/png": "[encoded data removed]",
      "text/plain": [
       "<Figure size 432x288 with 1 Axes>"
      ]
     },
     "metadata": {
      "needs_background": "light"
     },
     "output_type": "display_data"
    }
   ],
   "source": [
    "for i in columns:\n",
    "    sns.boxplot(df[i])\n",
    "    plt.show()"
   ]
  },
  {
   "cell_type": "markdown",
   "metadata": {},
   "source": [
    "There are many outliers present in the dataset. Need to remove the outliers"
   ]
  },
  {
   "cell_type": "markdown",
   "metadata": {},
   "source": [
    "We will have to convert the categorical feature into numerical using Label encoder."
   ]
  },
  {
   "cell_type": "code",
   "execution_count": 42,
   "metadata": {},
   "outputs": [],
   "source": [
    "columns_cat=['year','Month','region']"
   ]
  },
  {
   "cell_type": "code",
   "execution_count": 43,
   "metadata": {},
   "outputs": [],
   "source": [
    "from sklearn.preprocessing import LabelEncoder\n",
    "le=LabelEncoder()"
   ]
  },
  {
   "cell_type": "code",
   "execution_count": 44,
   "metadata": {},
   "outputs": [],
   "source": [
    "for i in range(len(columns_cat)):\n",
    "    df[columns_cat[i]]=le.fit_transform(df[columns_cat[i]])"
   ]
  },
  {
   "cell_type": "code",
   "execution_count": 45,
   "metadata": {},
   "outputs": [
    {
     "data": {
      "text/html": [
       "<div>\n",
       "<style scoped>\n",
       "    .dataframe tbody tr th:only-of-type {\n",
       "        vertical-align: middle;\n",
       "    }\n",
       "\n",
       "    .dataframe tbody tr th {\n",
       "        vertical-align: top;\n",
       "    }\n",
       "\n",
       "    .dataframe thead th {\n",
       "        text-align: right;\n",
       "    }\n",
       "</style>\n",
       "<table border=\"1\" class=\"dataframe\">\n",
       "  <thead>\n",
       "    <tr style=\"text-align: right;\">\n",
       "      <th></th>\n",
       "      <th>AveragePrice</th>\n",
       "      <th>Total Volume</th>\n",
       "      <th>Total Bags</th>\n",
       "      <th>Small Bags</th>\n",
       "      <th>Large Bags</th>\n",
       "      <th>XLarge Bags</th>\n",
       "      <th>year</th>\n",
       "      <th>region</th>\n",
       "      <th>PL1</th>\n",
       "      <th>PL2</th>\n",
       "      <th>PL3</th>\n",
       "      <th>Month</th>\n",
       "    </tr>\n",
       "  </thead>\n",
       "  <tbody>\n",
       "    <tr>\n",
       "      <th>0</th>\n",
       "      <td>1.33</td>\n",
       "      <td>64236.62</td>\n",
       "      <td>8696.87</td>\n",
       "      <td>8603.62</td>\n",
       "      <td>93.25</td>\n",
       "      <td>0.0</td>\n",
       "      <td>0</td>\n",
       "      <td>0</td>\n",
       "      <td>1036.74</td>\n",
       "      <td>54454.85</td>\n",
       "      <td>48.16</td>\n",
       "      <td>2</td>\n",
       "    </tr>\n",
       "    <tr>\n",
       "      <th>1</th>\n",
       "      <td>1.35</td>\n",
       "      <td>54876.98</td>\n",
       "      <td>9505.56</td>\n",
       "      <td>9408.07</td>\n",
       "      <td>97.49</td>\n",
       "      <td>0.0</td>\n",
       "      <td>0</td>\n",
       "      <td>0</td>\n",
       "      <td>674.28</td>\n",
       "      <td>44638.81</td>\n",
       "      <td>58.33</td>\n",
       "      <td>2</td>\n",
       "    </tr>\n",
       "    <tr>\n",
       "      <th>2</th>\n",
       "      <td>0.93</td>\n",
       "      <td>118220.22</td>\n",
       "      <td>8145.35</td>\n",
       "      <td>8042.21</td>\n",
       "      <td>103.14</td>\n",
       "      <td>0.0</td>\n",
       "      <td>0</td>\n",
       "      <td>0</td>\n",
       "      <td>794.70</td>\n",
       "      <td>109149.67</td>\n",
       "      <td>130.50</td>\n",
       "      <td>2</td>\n",
       "    </tr>\n",
       "    <tr>\n",
       "      <th>3</th>\n",
       "      <td>1.08</td>\n",
       "      <td>78992.15</td>\n",
       "      <td>5811.16</td>\n",
       "      <td>5677.40</td>\n",
       "      <td>133.76</td>\n",
       "      <td>0.0</td>\n",
       "      <td>0</td>\n",
       "      <td>0</td>\n",
       "      <td>1132.00</td>\n",
       "      <td>71976.41</td>\n",
       "      <td>72.58</td>\n",
       "      <td>2</td>\n",
       "    </tr>\n",
       "    <tr>\n",
       "      <th>4</th>\n",
       "      <td>1.28</td>\n",
       "      <td>51039.60</td>\n",
       "      <td>6183.95</td>\n",
       "      <td>5986.26</td>\n",
       "      <td>197.69</td>\n",
       "      <td>0.0</td>\n",
       "      <td>0</td>\n",
       "      <td>0</td>\n",
       "      <td>941.48</td>\n",
       "      <td>43838.39</td>\n",
       "      <td>75.78</td>\n",
       "      <td>9</td>\n",
       "    </tr>\n",
       "    <tr>\n",
       "      <th>...</th>\n",
       "      <td>...</td>\n",
       "      <td>...</td>\n",
       "      <td>...</td>\n",
       "      <td>...</td>\n",
       "      <td>...</td>\n",
       "      <td>...</td>\n",
       "      <td>...</td>\n",
       "      <td>...</td>\n",
       "      <td>...</td>\n",
       "      <td>...</td>\n",
       "      <td>...</td>\n",
       "      <td>...</td>\n",
       "    </tr>\n",
       "    <tr>\n",
       "      <th>18244</th>\n",
       "      <td>1.63</td>\n",
       "      <td>17074.83</td>\n",
       "      <td>13498.67</td>\n",
       "      <td>13066.82</td>\n",
       "      <td>431.85</td>\n",
       "      <td>0.0</td>\n",
       "      <td>3</td>\n",
       "      <td>53</td>\n",
       "      <td>2046.96</td>\n",
       "      <td>1529.20</td>\n",
       "      <td>0.00</td>\n",
       "      <td>3</td>\n",
       "    </tr>\n",
       "    <tr>\n",
       "      <th>18245</th>\n",
       "      <td>1.71</td>\n",
       "      <td>13888.04</td>\n",
       "      <td>9264.84</td>\n",
       "      <td>8940.04</td>\n",
       "      <td>324.80</td>\n",
       "      <td>0.0</td>\n",
       "      <td>3</td>\n",
       "      <td>53</td>\n",
       "      <td>1191.70</td>\n",
       "      <td>3431.50</td>\n",
       "      <td>0.00</td>\n",
       "      <td>4</td>\n",
       "    </tr>\n",
       "    <tr>\n",
       "      <th>18246</th>\n",
       "      <td>1.87</td>\n",
       "      <td>13766.76</td>\n",
       "      <td>9394.11</td>\n",
       "      <td>9351.80</td>\n",
       "      <td>42.31</td>\n",
       "      <td>0.0</td>\n",
       "      <td>3</td>\n",
       "      <td>53</td>\n",
       "      <td>1191.92</td>\n",
       "      <td>2452.79</td>\n",
       "      <td>727.94</td>\n",
       "      <td>4</td>\n",
       "    </tr>\n",
       "    <tr>\n",
       "      <th>18247</th>\n",
       "      <td>1.93</td>\n",
       "      <td>16205.22</td>\n",
       "      <td>10969.54</td>\n",
       "      <td>10919.54</td>\n",
       "      <td>50.00</td>\n",
       "      <td>0.0</td>\n",
       "      <td>3</td>\n",
       "      <td>53</td>\n",
       "      <td>1527.63</td>\n",
       "      <td>2981.04</td>\n",
       "      <td>727.01</td>\n",
       "      <td>4</td>\n",
       "    </tr>\n",
       "    <tr>\n",
       "      <th>18248</th>\n",
       "      <td>1.62</td>\n",
       "      <td>17489.58</td>\n",
       "      <td>12014.15</td>\n",
       "      <td>11988.14</td>\n",
       "      <td>26.01</td>\n",
       "      <td>0.0</td>\n",
       "      <td>3</td>\n",
       "      <td>53</td>\n",
       "      <td>2894.77</td>\n",
       "      <td>2356.13</td>\n",
       "      <td>224.53</td>\n",
       "      <td>4</td>\n",
       "    </tr>\n",
       "  </tbody>\n",
       "</table>\n",
       "<p>18249 rows × 12 columns</p>\n",
       "</div>"
      ],
      "text/plain": [
       "       AveragePrice  Total Volume  Total Bags  Small Bags  Large Bags  \\\n",
       "0              1.33      64236.62     8696.87     8603.62       93.25   \n",
       "1              1.35      54876.98     9505.56     9408.07       97.49   \n",
       "2              0.93     118220.22     8145.35     8042.21      103.14   \n",
       "3              1.08      78992.15     5811.16     5677.40      133.76   \n",
       "4              1.28      51039.60     6183.95     5986.26      197.69   \n",
       "...             ...           ...         ...         ...         ...   \n",
       "18244          1.63      17074.83    13498.67    13066.82      431.85   \n",
       "18245          1.71      13888.04     9264.84     8940.04      324.80   \n",
       "18246          1.87      13766.76     9394.11     9351.80       42.31   \n",
       "18247          1.93      16205.22    10969.54    10919.54       50.00   \n",
       "18248          1.62      17489.58    12014.15    11988.14       26.01   \n",
       "\n",
       "       XLarge Bags  year  region      PL1        PL2     PL3  Month  \n",
       "0              0.0     0       0  1036.74   54454.85   48.16      2  \n",
       "1              0.0     0       0   674.28   44638.81   58.33      2  \n",
       "2              0.0     0       0   794.70  109149.67  130.50      2  \n",
       "3              0.0     0       0  1132.00   71976.41   72.58      2  \n",
       "4              0.0     0       0   941.48   43838.39   75.78      9  \n",
       "...            ...   ...     ...      ...        ...     ...    ...  \n",
       "18244          0.0     3      53  2046.96    1529.20    0.00      3  \n",
       "18245          0.0     3      53  1191.70    3431.50    0.00      4  \n",
       "18246          0.0     3      53  1191.92    2452.79  727.94      4  \n",
       "18247          0.0     3      53  1527.63    2981.04  727.01      4  \n",
       "18248          0.0     3      53  2894.77    2356.13  224.53      4  \n",
       "\n",
       "[18249 rows x 12 columns]"
      ]
     },
     "execution_count": 45,
     "metadata": {},
     "output_type": "execute_result"
    }
   ],
   "source": [
    "df"
   ]
  },
  {
   "cell_type": "markdown",
   "metadata": {},
   "source": [
    "# Removing Outlier"
   ]
  },
  {
   "cell_type": "code",
   "execution_count": 46,
   "metadata": {},
   "outputs": [
    {
     "name": "stdout",
     "output_type": "stream",
     "text": [
      "(array([  346,   359,   780, ..., 17304, 17402, 17428], dtype=int64), array([8, 8, 5, ..., 0, 0, 0], dtype=int64))\n"
     ]
    }
   ],
   "source": [
    "from scipy.stats import zscore\n",
    "zscr=np.abs(zscore(df))\n",
    "\n",
    "threshold=3\n",
    "print(np.where(zscr>3))"
   ]
  },
  {
   "cell_type": "code",
   "execution_count": 47,
   "metadata": {},
   "outputs": [
    {
     "name": "stdout",
     "output_type": "stream",
     "text": [
      "shape before removing the outliers: (18249, 12)\n",
      "shape after removing the outliers: (17651, 12)\n"
     ]
    }
   ],
   "source": [
    "print('shape before removing the outliers:', df.shape)\n",
    "\n",
    "dfnew=df[(zscr<3).all(axis=1)]\n",
    "\n",
    "print('shape after removing the outliers:', dfnew.shape)"
   ]
  },
  {
   "cell_type": "code",
   "execution_count": 48,
   "metadata": {},
   "outputs": [
    {
     "data": {
      "text/plain": [
       "96.72310811551318"
      ]
     },
     "execution_count": 48,
     "metadata": {},
     "output_type": "execute_result"
    }
   ],
   "source": [
    "100-((18249-17651)/18249)*100"
   ]
  },
  {
   "cell_type": "markdown",
   "metadata": {},
   "source": [
    "We are losing around 3.28% data after removing the outliers."
   ]
  },
  {
   "cell_type": "code",
   "execution_count": 49,
   "metadata": {},
   "outputs": [],
   "source": [
    "df=dfnew"
   ]
  },
  {
   "cell_type": "code",
   "execution_count": 50,
   "metadata": {},
   "outputs": [],
   "source": [
    "for i in columns:\n",
    "    if df[i].skew()>0.50:\n",
    "        df[i]=np.log1p(df[i])"
   ]
  },
  {
   "cell_type": "code",
   "execution_count": 51,
   "metadata": {},
   "outputs": [
    {
     "data": {
      "text/plain": [
       "AveragePrice    0.377432\n",
       "Total Volume   -0.049950\n",
       "Total Bags     -0.384493\n",
       "Small Bags     -0.788988\n",
       "Large Bags     -0.610874\n",
       "XLarge Bags     1.216238\n",
       "year            0.229976\n",
       "region          0.012798\n",
       "PL1            -0.420273\n",
       "PL2            -0.604619\n",
       "PL3             0.068532\n",
       "Month           0.029197\n",
       "dtype: float64"
      ]
     },
     "execution_count": 51,
     "metadata": {},
     "output_type": "execute_result"
    }
   ],
   "source": [
    "df.skew()"
   ]
  },
  {
   "cell_type": "code",
   "execution_count": 52,
   "metadata": {},
   "outputs": [
    {
     "data": {
      "image/png": "[encoded data removed]",
      "text/plain": [
       "<Figure size 432x288 with 1 Axes>"
      ]
     },
     "metadata": {
      "needs_background": "light"
     },
     "output_type": "display_data"
    },
    {
     "data": {
      "image/png": "[encoded data removed]",
      "text/plain": [
       "<Figure size 432x288 with 1 Axes>"
      ]
     },
     "metadata": {
      "needs_background": "light"
     },
     "output_type": "display_data"
    },
    {
     "data": {
      "image/png": "[encoded data removed]",
      "text/plain": [
       "<Figure size 432x288 with 1 Axes>"
      ]
     },
     "metadata": {
      "needs_background": "light"
     },
     "output_type": "display_data"
    },
    {
     "data": {
      "image/png": "[encoded data removed]",
      "text/plain": [
       "<Figure size 432x288 with 1 Axes>"
      ]
     },
     "metadata": {
      "needs_background": "light"
     },
     "output_type": "display_data"
    },
    {
     "data": {
      "image/png": "[encoded data removed]",
      "text/plain": [
       "<Figure size 432x288 with 1 Axes>"
      ]
     },
     "metadata": {
      "needs_background": "light"
     },
     "output_type": "display_data"
    },
    {
     "data": {
      "image/png": "[encoded data removed]",
      "text/plain": [
       "<Figure size 432x288 with 1 Axes>"
      ]
     },
     "metadata": {
      "needs_background": "light"
     },
     "output_type": "display_data"
    },
    {
     "data": {
      "image/png": "[encoded data removed]",
      "text/plain": [
       "<Figure size 432x288 with 1 Axes>"
      ]
     },
     "metadata": {
      "needs_background": "light"
     },
     "output_type": "display_data"
    },
    {
     "data": {
      "image/png": "[encoded data removed]",
      "text/plain": [
       "<Figure size 432x288 with 1 Axes>"
      ]
     },
     "metadata": {
      "needs_background": "light"
     },
     "output_type": "display_data"
    },
    {
     "data": {
      "image/png": "[encoded data removed]",
      "text/plain": [
       "<Figure size 432x288 with 1 Axes>"
      ]
     },
     "metadata": {
      "needs_background": "light"
     },
     "output_type": "display_data"
    }
   ],
   "source": [
    "for i in columns:\n",
    "    sns.distplot(df[i])\n",
    "    plt.show()"
   ]
  },
  {
   "cell_type": "markdown",
   "metadata": {},
   "source": [
    "# Model Fitting and Selection"
   ]
  },
  {
   "cell_type": "code",
   "execution_count": 53,
   "metadata": {},
   "outputs": [],
   "source": [
    "x=df.drop(['AveragePrice'],axis=1)\n",
    "y=df['AveragePrice']\n",
    "y=pd.DataFrame(data=y)"
   ]
  },
  {
   "cell_type": "markdown",
   "metadata": {},
   "source": [
    "Lets Scale the data. Using Standard Scaler."
   ]
  },
  {
   "cell_type": "code",
   "execution_count": 54,
   "metadata": {},
   "outputs": [],
   "source": [
    "from sklearn.preprocessing import StandardScaler\n",
    "sc=StandardScaler()\n",
    "sc_x=sc.fit_transform(x)\n",
    "sc_x=pd.DataFrame(sc_x,columns=x.columns)"
   ]
  },
  {
   "cell_type": "code",
   "execution_count": 55,
   "metadata": {},
   "outputs": [
    {
     "data": {
      "text/html": [
       "<div>\n",
       "<style scoped>\n",
       "    .dataframe tbody tr th:only-of-type {\n",
       "        vertical-align: middle;\n",
       "    }\n",
       "\n",
       "    .dataframe tbody tr th {\n",
       "        vertical-align: top;\n",
       "    }\n",
       "\n",
       "    .dataframe thead th {\n",
       "        text-align: right;\n",
       "    }\n",
       "</style>\n",
       "<table border=\"1\" class=\"dataframe\">\n",
       "  <thead>\n",
       "    <tr style=\"text-align: right;\">\n",
       "      <th></th>\n",
       "      <th>Total Volume</th>\n",
       "      <th>Total Bags</th>\n",
       "      <th>Small Bags</th>\n",
       "      <th>Large Bags</th>\n",
       "      <th>XLarge Bags</th>\n",
       "      <th>year</th>\n",
       "      <th>region</th>\n",
       "      <th>PL1</th>\n",
       "      <th>PL2</th>\n",
       "      <th>PL3</th>\n",
       "      <th>Month</th>\n",
       "    </tr>\n",
       "  </thead>\n",
       "  <tbody>\n",
       "    <tr>\n",
       "      <th>0</th>\n",
       "      <td>-0.061962</td>\n",
       "      <td>-0.473426</td>\n",
       "      <td>-0.215789</td>\n",
       "      <td>-0.648254</td>\n",
       "      <td>-0.627319</td>\n",
       "      <td>-1.210013</td>\n",
       "      <td>-1.695495</td>\n",
       "      <td>-0.587318</td>\n",
       "      <td>0.431565</td>\n",
       "      <td>-0.246207</td>\n",
       "      <td>-1.029537</td>\n",
       "    </tr>\n",
       "    <tr>\n",
       "      <th>1</th>\n",
       "      <td>-0.134302</td>\n",
       "      <td>-0.431908</td>\n",
       "      <td>-0.179590</td>\n",
       "      <td>-0.636520</td>\n",
       "      <td>-0.627319</td>\n",
       "      <td>-1.210013</td>\n",
       "      <td>-1.695495</td>\n",
       "      <td>-0.719464</td>\n",
       "      <td>0.359601</td>\n",
       "      <td>-0.199437</td>\n",
       "      <td>-1.029537</td>\n",
       "    </tr>\n",
       "    <tr>\n",
       "      <th>2</th>\n",
       "      <td>0.218235</td>\n",
       "      <td>-0.504018</td>\n",
       "      <td>-0.243116</td>\n",
       "      <td>-0.621646</td>\n",
       "      <td>-0.627319</td>\n",
       "      <td>-1.210013</td>\n",
       "      <td>-1.695495</td>\n",
       "      <td>-0.668997</td>\n",
       "      <td>0.683316</td>\n",
       "      <td>-0.001478</td>\n",
       "      <td>-1.029537</td>\n",
       "    </tr>\n",
       "    <tr>\n",
       "      <th>3</th>\n",
       "      <td>0.033021</td>\n",
       "      <td>-0.661685</td>\n",
       "      <td>-0.384129</td>\n",
       "      <td>-0.552915</td>\n",
       "      <td>-0.627319</td>\n",
       "      <td>-1.210013</td>\n",
       "      <td>-1.695495</td>\n",
       "      <td>-0.560308</td>\n",
       "      <td>0.532565</td>\n",
       "      <td>-0.145897</td>\n",
       "      <td>-1.029537</td>\n",
       "    </tr>\n",
       "    <tr>\n",
       "      <th>4</th>\n",
       "      <td>-0.167601</td>\n",
       "      <td>-0.632653</td>\n",
       "      <td>-0.362677</td>\n",
       "      <td>-0.449388</td>\n",
       "      <td>-0.627319</td>\n",
       "      <td>-1.210013</td>\n",
       "      <td>-1.695495</td>\n",
       "      <td>-0.616931</td>\n",
       "      <td>0.353051</td>\n",
       "      <td>-0.135308</td>\n",
       "      <td>1.062882</td>\n",
       "    </tr>\n",
       "    <tr>\n",
       "      <th>...</th>\n",
       "      <td>...</td>\n",
       "      <td>...</td>\n",
       "      <td>...</td>\n",
       "      <td>...</td>\n",
       "      <td>...</td>\n",
       "      <td>...</td>\n",
       "      <td>...</td>\n",
       "      <td>...</td>\n",
       "      <td>...</td>\n",
       "      <td>...</td>\n",
       "      <td>...</td>\n",
       "    </tr>\n",
       "    <tr>\n",
       "      <th>17646</th>\n",
       "      <td>-0.670586</td>\n",
       "      <td>-0.268139</td>\n",
       "      <td>-0.046548</td>\n",
       "      <td>-0.241763</td>\n",
       "      <td>-0.627319</td>\n",
       "      <td>1.980756</td>\n",
       "      <td>1.747054</td>\n",
       "      <td>-0.378245</td>\n",
       "      <td>-0.861693</td>\n",
       "      <td>-1.215018</td>\n",
       "      <td>-0.730620</td>\n",
       "    </tr>\n",
       "    <tr>\n",
       "      <th>17647</th>\n",
       "      <td>-0.765474</td>\n",
       "      <td>-0.443885</td>\n",
       "      <td>-0.200255</td>\n",
       "      <td>-0.317520</td>\n",
       "      <td>-0.627319</td>\n",
       "      <td>1.980756</td>\n",
       "      <td>1.747054</td>\n",
       "      <td>-0.544515</td>\n",
       "      <td>-0.569192</td>\n",
       "      <td>-1.215018</td>\n",
       "      <td>-0.431703</td>\n",
       "    </tr>\n",
       "    <tr>\n",
       "      <th>17648</th>\n",
       "      <td>-0.769503</td>\n",
       "      <td>-0.437415</td>\n",
       "      <td>-0.182019</td>\n",
       "      <td>-0.855591</td>\n",
       "      <td>-0.627319</td>\n",
       "      <td>1.980756</td>\n",
       "      <td>1.747054</td>\n",
       "      <td>-0.544458</td>\n",
       "      <td>-0.690718</td>\n",
       "      <td>0.424488</td>\n",
       "      <td>-0.431703</td>\n",
       "    </tr>\n",
       "    <tr>\n",
       "      <th>17649</th>\n",
       "      <td>-0.694596</td>\n",
       "      <td>-0.365019</td>\n",
       "      <td>-0.119253</td>\n",
       "      <td>-0.812010</td>\n",
       "      <td>-0.627319</td>\n",
       "      <td>1.980756</td>\n",
       "      <td>1.747054</td>\n",
       "      <td>-0.468195</td>\n",
       "      <td>-0.620126</td>\n",
       "      <td>0.424171</td>\n",
       "      <td>-0.431703</td>\n",
       "    </tr>\n",
       "    <tr>\n",
       "      <th>17650</th>\n",
       "      <td>-0.659562</td>\n",
       "      <td>-0.322543</td>\n",
       "      <td>-0.081441</td>\n",
       "      <td>-0.981497</td>\n",
       "      <td>-0.627319</td>\n",
       "      <td>1.980756</td>\n",
       "      <td>1.747054</td>\n",
       "      <td>-0.271708</td>\n",
       "      <td>-0.705268</td>\n",
       "      <td>0.132697</td>\n",
       "      <td>-0.431703</td>\n",
       "    </tr>\n",
       "  </tbody>\n",
       "</table>\n",
       "<p>17651 rows × 11 columns</p>\n",
       "</div>"
      ],
      "text/plain": [
       "       Total Volume  Total Bags  Small Bags  Large Bags  XLarge Bags  \\\n",
       "0         -0.061962   -0.473426   -0.215789   -0.648254    -0.627319   \n",
       "1         -0.134302   -0.431908   -0.179590   -0.636520    -0.627319   \n",
       "2          0.218235   -0.504018   -0.243116   -0.621646    -0.627319   \n",
       "3          0.033021   -0.661685   -0.384129   -0.552915    -0.627319   \n",
       "4         -0.167601   -0.632653   -0.362677   -0.449388    -0.627319   \n",
       "...             ...         ...         ...         ...          ...   \n",
       "17646     -0.670586   -0.268139   -0.046548   -0.241763    -0.627319   \n",
       "17647     -0.765474   -0.443885   -0.200255   -0.317520    -0.627319   \n",
       "17648     -0.769503   -0.437415   -0.182019   -0.855591    -0.627319   \n",
       "17649     -0.694596   -0.365019   -0.119253   -0.812010    -0.627319   \n",
       "17650     -0.659562   -0.322543   -0.081441   -0.981497    -0.627319   \n",
       "\n",
       "           year    region       PL1       PL2       PL3     Month  \n",
       "0     -1.210013 -1.695495 -0.587318  0.431565 -0.246207 -1.029537  \n",
       "1     -1.210013 -1.695495 -0.719464  0.359601 -0.199437 -1.029537  \n",
       "2     -1.210013 -1.695495 -0.668997  0.683316 -0.001478 -1.029537  \n",
       "3     -1.210013 -1.695495 -0.560308  0.532565 -0.145897 -1.029537  \n",
       "4     -1.210013 -1.695495 -0.616931  0.353051 -0.135308  1.062882  \n",
       "...         ...       ...       ...       ...       ...       ...  \n",
       "17646  1.980756  1.747054 -0.378245 -0.861693 -1.215018 -0.730620  \n",
       "17647  1.980756  1.747054 -0.544515 -0.569192 -1.215018 -0.431703  \n",
       "17648  1.980756  1.747054 -0.544458 -0.690718  0.424488 -0.431703  \n",
       "17649  1.980756  1.747054 -0.468195 -0.620126  0.424171 -0.431703  \n",
       "17650  1.980756  1.747054 -0.271708 -0.705268  0.132697 -0.431703  \n",
       "\n",
       "[17651 rows x 11 columns]"
      ]
     },
     "execution_count": 55,
     "metadata": {},
     "output_type": "execute_result"
    }
   ],
   "source": [
    "sc_x"
   ]
  },
  {
   "cell_type": "code",
   "execution_count": 56,
   "metadata": {},
   "outputs": [
    {
     "data": {
      "text/html": [
       "<div>\n",
       "<style scoped>\n",
       "    .dataframe tbody tr th:only-of-type {\n",
       "        vertical-align: middle;\n",
       "    }\n",
       "\n",
       "    .dataframe tbody tr th {\n",
       "        vertical-align: top;\n",
       "    }\n",
       "\n",
       "    .dataframe thead th {\n",
       "        text-align: right;\n",
       "    }\n",
       "</style>\n",
       "<table border=\"1\" class=\"dataframe\">\n",
       "  <thead>\n",
       "    <tr style=\"text-align: right;\">\n",
       "      <th></th>\n",
       "      <th>Total Volume</th>\n",
       "      <th>Total Bags</th>\n",
       "      <th>Small Bags</th>\n",
       "      <th>Large Bags</th>\n",
       "      <th>XLarge Bags</th>\n",
       "      <th>year</th>\n",
       "      <th>region</th>\n",
       "      <th>PL1</th>\n",
       "      <th>PL2</th>\n",
       "      <th>PL3</th>\n",
       "      <th>Month</th>\n",
       "    </tr>\n",
       "  </thead>\n",
       "  <tbody>\n",
       "    <tr>\n",
       "      <th>0</th>\n",
       "      <td>-0.061962</td>\n",
       "      <td>-0.473426</td>\n",
       "      <td>-0.215789</td>\n",
       "      <td>-0.648254</td>\n",
       "      <td>-0.627319</td>\n",
       "      <td>-1.210013</td>\n",
       "      <td>-1.695495</td>\n",
       "      <td>-0.587318</td>\n",
       "      <td>0.431565</td>\n",
       "      <td>-0.246207</td>\n",
       "      <td>-1.029537</td>\n",
       "    </tr>\n",
       "    <tr>\n",
       "      <th>1</th>\n",
       "      <td>-0.134302</td>\n",
       "      <td>-0.431908</td>\n",
       "      <td>-0.179590</td>\n",
       "      <td>-0.636520</td>\n",
       "      <td>-0.627319</td>\n",
       "      <td>-1.210013</td>\n",
       "      <td>-1.695495</td>\n",
       "      <td>-0.719464</td>\n",
       "      <td>0.359601</td>\n",
       "      <td>-0.199437</td>\n",
       "      <td>-1.029537</td>\n",
       "    </tr>\n",
       "    <tr>\n",
       "      <th>2</th>\n",
       "      <td>0.218235</td>\n",
       "      <td>-0.504018</td>\n",
       "      <td>-0.243116</td>\n",
       "      <td>-0.621646</td>\n",
       "      <td>-0.627319</td>\n",
       "      <td>-1.210013</td>\n",
       "      <td>-1.695495</td>\n",
       "      <td>-0.668997</td>\n",
       "      <td>0.683316</td>\n",
       "      <td>-0.001478</td>\n",
       "      <td>-1.029537</td>\n",
       "    </tr>\n",
       "    <tr>\n",
       "      <th>3</th>\n",
       "      <td>0.033021</td>\n",
       "      <td>-0.661685</td>\n",
       "      <td>-0.384129</td>\n",
       "      <td>-0.552915</td>\n",
       "      <td>-0.627319</td>\n",
       "      <td>-1.210013</td>\n",
       "      <td>-1.695495</td>\n",
       "      <td>-0.560308</td>\n",
       "      <td>0.532565</td>\n",
       "      <td>-0.145897</td>\n",
       "      <td>-1.029537</td>\n",
       "    </tr>\n",
       "    <tr>\n",
       "      <th>4</th>\n",
       "      <td>-0.167601</td>\n",
       "      <td>-0.632653</td>\n",
       "      <td>-0.362677</td>\n",
       "      <td>-0.449388</td>\n",
       "      <td>-0.627319</td>\n",
       "      <td>-1.210013</td>\n",
       "      <td>-1.695495</td>\n",
       "      <td>-0.616931</td>\n",
       "      <td>0.353051</td>\n",
       "      <td>-0.135308</td>\n",
       "      <td>1.062882</td>\n",
       "    </tr>\n",
       "    <tr>\n",
       "      <th>...</th>\n",
       "      <td>...</td>\n",
       "      <td>...</td>\n",
       "      <td>...</td>\n",
       "      <td>...</td>\n",
       "      <td>...</td>\n",
       "      <td>...</td>\n",
       "      <td>...</td>\n",
       "      <td>...</td>\n",
       "      <td>...</td>\n",
       "      <td>...</td>\n",
       "      <td>...</td>\n",
       "    </tr>\n",
       "    <tr>\n",
       "      <th>17646</th>\n",
       "      <td>-0.670586</td>\n",
       "      <td>-0.268139</td>\n",
       "      <td>-0.046548</td>\n",
       "      <td>-0.241763</td>\n",
       "      <td>-0.627319</td>\n",
       "      <td>1.980756</td>\n",
       "      <td>1.747054</td>\n",
       "      <td>-0.378245</td>\n",
       "      <td>-0.861693</td>\n",
       "      <td>-1.215018</td>\n",
       "      <td>-0.730620</td>\n",
       "    </tr>\n",
       "    <tr>\n",
       "      <th>17647</th>\n",
       "      <td>-0.765474</td>\n",
       "      <td>-0.443885</td>\n",
       "      <td>-0.200255</td>\n",
       "      <td>-0.317520</td>\n",
       "      <td>-0.627319</td>\n",
       "      <td>1.980756</td>\n",
       "      <td>1.747054</td>\n",
       "      <td>-0.544515</td>\n",
       "      <td>-0.569192</td>\n",
       "      <td>-1.215018</td>\n",
       "      <td>-0.431703</td>\n",
       "    </tr>\n",
       "    <tr>\n",
       "      <th>17648</th>\n",
       "      <td>-0.769503</td>\n",
       "      <td>-0.437415</td>\n",
       "      <td>-0.182019</td>\n",
       "      <td>-0.855591</td>\n",
       "      <td>-0.627319</td>\n",
       "      <td>1.980756</td>\n",
       "      <td>1.747054</td>\n",
       "      <td>-0.544458</td>\n",
       "      <td>-0.690718</td>\n",
       "      <td>0.424488</td>\n",
       "      <td>-0.431703</td>\n",
       "    </tr>\n",
       "    <tr>\n",
       "      <th>17649</th>\n",
       "      <td>-0.694596</td>\n",
       "      <td>-0.365019</td>\n",
       "      <td>-0.119253</td>\n",
       "      <td>-0.812010</td>\n",
       "      <td>-0.627319</td>\n",
       "      <td>1.980756</td>\n",
       "      <td>1.747054</td>\n",
       "      <td>-0.468195</td>\n",
       "      <td>-0.620126</td>\n",
       "      <td>0.424171</td>\n",
       "      <td>-0.431703</td>\n",
       "    </tr>\n",
       "    <tr>\n",
       "      <th>17650</th>\n",
       "      <td>-0.659562</td>\n",
       "      <td>-0.322543</td>\n",
       "      <td>-0.081441</td>\n",
       "      <td>-0.981497</td>\n",
       "      <td>-0.627319</td>\n",
       "      <td>1.980756</td>\n",
       "      <td>1.747054</td>\n",
       "      <td>-0.271708</td>\n",
       "      <td>-0.705268</td>\n",
       "      <td>0.132697</td>\n",
       "      <td>-0.431703</td>\n",
       "    </tr>\n",
       "  </tbody>\n",
       "</table>\n",
       "<p>17651 rows × 11 columns</p>\n",
       "</div>"
      ],
      "text/plain": [
       "       Total Volume  Total Bags  Small Bags  Large Bags  XLarge Bags  \\\n",
       "0         -0.061962   -0.473426   -0.215789   -0.648254    -0.627319   \n",
       "1         -0.134302   -0.431908   -0.179590   -0.636520    -0.627319   \n",
       "2          0.218235   -0.504018   -0.243116   -0.621646    -0.627319   \n",
       "3          0.033021   -0.661685   -0.384129   -0.552915    -0.627319   \n",
       "4         -0.167601   -0.632653   -0.362677   -0.449388    -0.627319   \n",
       "...             ...         ...         ...         ...          ...   \n",
       "17646     -0.670586   -0.268139   -0.046548   -0.241763    -0.627319   \n",
       "17647     -0.765474   -0.443885   -0.200255   -0.317520    -0.627319   \n",
       "17648     -0.769503   -0.437415   -0.182019   -0.855591    -0.627319   \n",
       "17649     -0.694596   -0.365019   -0.119253   -0.812010    -0.627319   \n",
       "17650     -0.659562   -0.322543   -0.081441   -0.981497    -0.627319   \n",
       "\n",
       "           year    region       PL1       PL2       PL3     Month  \n",
       "0     -1.210013 -1.695495 -0.587318  0.431565 -0.246207 -1.029537  \n",
       "1     -1.210013 -1.695495 -0.719464  0.359601 -0.199437 -1.029537  \n",
       "2     -1.210013 -1.695495 -0.668997  0.683316 -0.001478 -1.029537  \n",
       "3     -1.210013 -1.695495 -0.560308  0.532565 -0.145897 -1.029537  \n",
       "4     -1.210013 -1.695495 -0.616931  0.353051 -0.135308  1.062882  \n",
       "...         ...       ...       ...       ...       ...       ...  \n",
       "17646  1.980756  1.747054 -0.378245 -0.861693 -1.215018 -0.730620  \n",
       "17647  1.980756  1.747054 -0.544515 -0.569192 -1.215018 -0.431703  \n",
       "17648  1.980756  1.747054 -0.544458 -0.690718  0.424488 -0.431703  \n",
       "17649  1.980756  1.747054 -0.468195 -0.620126  0.424171 -0.431703  \n",
       "17650  1.980756  1.747054 -0.271708 -0.705268  0.132697 -0.431703  \n",
       "\n",
       "[17651 rows x 11 columns]"
      ]
     },
     "execution_count": 56,
     "metadata": {},
     "output_type": "execute_result"
    }
   ],
   "source": [
    "x=sc_x\n",
    "x"
   ]
  },
  {
   "cell_type": "code",
   "execution_count": 57,
   "metadata": {},
   "outputs": [],
   "source": [
    "from sklearn.model_selection import train_test_split\n",
    "from sklearn.metrics import mean_squared_error,mean_absolute_error,r2_score\n",
    "from sklearn.linear_model import LinearRegression\n",
    "from sklearn.svm import SVR\n",
    "from sklearn.tree import DecisionTreeRegressor\n",
    "from sklearn.ensemble import RandomForestRegressor\n",
    "from sklearn.neighbors import KNeighborsRegressor\n",
    "from sklearn.ensemble import AdaBoostRegressor\n",
    "from sklearn.linear_model import Lasso,Ridge,ElasticNet\n",
    "from sklearn.model_selection import cross_val_score\n",
    "from sklearn.model_selection import KFold"
   ]
  },
  {
   "cell_type": "markdown",
   "metadata": {},
   "source": [
    "We will use Linear regression model to check for the best random state to fit our training and test data"
   ]
  },
  {
   "cell_type": "code",
   "execution_count": 58,
   "metadata": {},
   "outputs": [
    {
     "name": "stdout",
     "output_type": "stream",
     "text": [
      "At random state 0,the training accuracy is: 0.4637177543184906\n",
      "At random state 0,the testing accuracy is: 0.4612915304404469\n",
      "\n",
      "\n",
      "At random state 1,the training accuracy is: 0.46164879613027066\n",
      "At random state 1,the testing accuracy is: 0.4695895748192175\n",
      "\n",
      "\n",
      "At random state 2,the training accuracy is: 0.46731767954128645\n",
      "At random state 2,the testing accuracy is: 0.4468171517102444\n",
      "\n",
      "\n",
      "At random state 3,the training accuracy is: 0.4615270017315871\n",
      "At random state 3,the testing accuracy is: 0.47023970213015953\n",
      "\n",
      "\n",
      "At random state 4,the training accuracy is: 0.4620344852430529\n",
      "At random state 4,the testing accuracy is: 0.46835218381457766\n",
      "\n",
      "\n",
      "At random state 5,the training accuracy is: 0.45819221588197967\n",
      "At random state 5,the testing accuracy is: 0.48276932801164507\n",
      "\n",
      "\n",
      "At random state 6,the training accuracy is: 0.45950623842633287\n",
      "At random state 6,the testing accuracy is: 0.4778263015445495\n",
      "\n",
      "\n",
      "At random state 7,the training accuracy is: 0.46331161723057035\n",
      "At random state 7,the testing accuracy is: 0.4626600082685265\n",
      "\n",
      "\n",
      "At random state 8,the training accuracy is: 0.4618598983693273\n",
      "At random state 8,the testing accuracy is: 0.46801062404326366\n",
      "\n",
      "\n",
      "At random state 9,the training accuracy is: 0.4594007780600471\n",
      "At random state 9,the testing accuracy is: 0.4784596241065936\n",
      "\n",
      "\n",
      "At random state 10,the training accuracy is: 0.4663813076497061\n",
      "At random state 10,the testing accuracy is: 0.45003706284146017\n",
      "\n",
      "\n",
      "At random state 11,the training accuracy is: 0.46255879076623496\n",
      "At random state 11,the testing accuracy is: 0.4659948547063215\n",
      "\n",
      "\n",
      "At random state 12,the training accuracy is: 0.46684977670242866\n",
      "At random state 12,the testing accuracy is: 0.4485889107633131\n",
      "\n",
      "\n",
      "At random state 13,the training accuracy is: 0.4646702238633673\n",
      "At random state 13,the testing accuracy is: 0.4575259370328729\n",
      "\n",
      "\n",
      "At random state 14,the training accuracy is: 0.4610312592594642\n",
      "At random state 14,the testing accuracy is: 0.4723133468399606\n",
      "\n",
      "\n",
      "At random state 15,the training accuracy is: 0.4626550513679982\n",
      "At random state 15,the testing accuracy is: 0.4653572431751758\n",
      "\n",
      "\n",
      "At random state 16,the training accuracy is: 0.4647193424053947\n",
      "At random state 16,the testing accuracy is: 0.4572393665682958\n",
      "\n",
      "\n",
      "At random state 17,the training accuracy is: 0.4647380500257343\n",
      "At random state 17,the testing accuracy is: 0.45659685164211594\n",
      "\n",
      "\n",
      "At random state 18,the training accuracy is: 0.46377873095145994\n",
      "At random state 18,the testing accuracy is: 0.4609340602645179\n",
      "\n",
      "\n",
      "At random state 19,the training accuracy is: 0.45981834539236643\n",
      "At random state 19,the testing accuracy is: 0.4771566034871296\n",
      "\n",
      "\n",
      "At random state 20,the training accuracy is: 0.46201049511753023\n",
      "At random state 20,the testing accuracy is: 0.46825399601853657\n",
      "\n",
      "\n",
      "At random state 21,the training accuracy is: 0.46463186560876324\n",
      "At random state 21,the testing accuracy is: 0.4573969491664257\n",
      "\n",
      "\n",
      "At random state 22,the training accuracy is: 0.46545442718440144\n",
      "At random state 22,the testing accuracy is: 0.4541610867225806\n",
      "\n",
      "\n",
      "At random state 23,the training accuracy is: 0.465067689776996\n",
      "At random state 23,the testing accuracy is: 0.4553344577804068\n",
      "\n",
      "\n",
      "At random state 24,the training accuracy is: 0.46072448304264835\n",
      "At random state 24,the testing accuracy is: 0.473748028197988\n",
      "\n",
      "\n",
      "At random state 25,the training accuracy is: 0.463271105242394\n",
      "At random state 25,the testing accuracy is: 0.46289683465292575\n",
      "\n",
      "\n",
      "At random state 26,the training accuracy is: 0.46492036989503616\n",
      "At random state 26,the testing accuracy is: 0.45664701005616304\n",
      "\n",
      "\n",
      "At random state 27,the training accuracy is: 0.4628841231018732\n",
      "At random state 27,the testing accuracy is: 0.46467269681738776\n",
      "\n",
      "\n",
      "At random state 28,the training accuracy is: 0.4591068396212272\n",
      "At random state 28,the testing accuracy is: 0.4802332543615947\n",
      "\n",
      "\n",
      "At random state 29,the training accuracy is: 0.4624567998747423\n",
      "At random state 29,the testing accuracy is: 0.4661194823528667\n",
      "\n",
      "\n",
      "At random state 30,the training accuracy is: 0.46558413593393455\n",
      "At random state 30,the testing accuracy is: 0.4535125509086323\n",
      "\n",
      "\n",
      "At random state 31,the training accuracy is: 0.4596063838638291\n",
      "At random state 31,the testing accuracy is: 0.4775905302468858\n",
      "\n",
      "\n",
      "At random state 32,the training accuracy is: 0.46398698231835966\n",
      "At random state 32,the testing accuracy is: 0.4603551840430308\n",
      "\n",
      "\n",
      "At random state 33,the training accuracy is: 0.46135731636957744\n",
      "At random state 33,the testing accuracy is: 0.4707274059013967\n",
      "\n",
      "\n",
      "At random state 34,the training accuracy is: 0.46374293931467736\n",
      "At random state 34,the testing accuracy is: 0.4606914465604851\n",
      "\n",
      "\n",
      "At random state 35,the training accuracy is: 0.4621530158274776\n",
      "At random state 35,the testing accuracy is: 0.4674203779964521\n",
      "\n",
      "\n",
      "At random state 36,the training accuracy is: 0.46753269977462064\n",
      "At random state 36,the testing accuracy is: 0.4451289344524597\n",
      "\n",
      "\n",
      "At random state 37,the training accuracy is: 0.46156714811054433\n",
      "At random state 37,the testing accuracy is: 0.4700882336209449\n",
      "\n",
      "\n",
      "At random state 38,the training accuracy is: 0.4636965953164617\n",
      "At random state 38,the testing accuracy is: 0.4612326443325069\n",
      "\n",
      "\n",
      "At random state 39,the training accuracy is: 0.46384413661288515\n",
      "At random state 39,the testing accuracy is: 0.46056210497566996\n",
      "\n",
      "\n",
      "At random state 40,the training accuracy is: 0.4647186499623551\n",
      "At random state 40,the testing accuracy is: 0.45738660350959814\n",
      "\n",
      "\n",
      "At random state 41,the training accuracy is: 0.46064526648008375\n",
      "At random state 41,the testing accuracy is: 0.47382775763802676\n",
      "\n",
      "\n",
      "At random state 42,the training accuracy is: 0.4612973220924771\n",
      "At random state 42,the testing accuracy is: 0.47073965988973265\n",
      "\n",
      "\n",
      "At random state 43,the training accuracy is: 0.4587304178511875\n",
      "At random state 43,the testing accuracy is: 0.48118014834267775\n",
      "\n",
      "\n",
      "At random state 44,the training accuracy is: 0.46763250162964265\n",
      "At random state 44,the testing accuracy is: 0.4453990233011961\n",
      "\n",
      "\n",
      "At random state 45,the training accuracy is: 0.46373633237227063\n",
      "At random state 45,the testing accuracy is: 0.46067573828431907\n",
      "\n",
      "\n",
      "At random state 46,the training accuracy is: 0.4609210454099776\n",
      "At random state 46,the testing accuracy is: 0.472221101326479\n",
      "\n",
      "\n",
      "At random state 47,the training accuracy is: 0.46281962331044213\n",
      "At random state 47,the testing accuracy is: 0.46505005177779923\n",
      "\n",
      "\n",
      "At random state 48,the training accuracy is: 0.46353710709078655\n",
      "At random state 48,the testing accuracy is: 0.46178220232313016\n",
      "\n",
      "\n",
      "At random state 49,the training accuracy is: 0.461792032997562\n",
      "At random state 49,the testing accuracy is: 0.4685675506125153\n",
      "\n",
      "\n",
      "At random state 50,the training accuracy is: 0.46578159860104773\n",
      "At random state 50,the testing accuracy is: 0.4528303951695173\n",
      "\n",
      "\n",
      "At random state 51,the training accuracy is: 0.4626622254020418\n",
      "At random state 51,the testing accuracy is: 0.46560669157516976\n",
      "\n",
      "\n",
      "At random state 52,the training accuracy is: 0.46273916785965274\n",
      "At random state 52,the testing accuracy is: 0.46482283495482557\n",
      "\n",
      "\n",
      "At random state 53,the training accuracy is: 0.4624078026182449\n",
      "At random state 53,the testing accuracy is: 0.4665655128817632\n",
      "\n",
      "\n",
      "At random state 54,the training accuracy is: 0.46965680780945096\n",
      "At random state 54,the testing accuracy is: 0.43734460526989194\n",
      "\n",
      "\n",
      "At random state 55,the training accuracy is: 0.4604236478833744\n",
      "At random state 55,the testing accuracy is: 0.47291046323477126\n",
      "\n",
      "\n",
      "At random state 56,the training accuracy is: 0.46451150932445473\n",
      "At random state 56,the testing accuracy is: 0.45753547386293203\n",
      "\n",
      "\n",
      "At random state 57,the training accuracy is: 0.46098932353452104\n",
      "At random state 57,the testing accuracy is: 0.4719542636527855\n",
      "\n",
      "\n",
      "At random state 58,the training accuracy is: 0.4627633208451315\n",
      "At random state 58,the testing accuracy is: 0.46497558964062224\n",
      "\n",
      "\n",
      "At random state 59,the training accuracy is: 0.46562223765623345\n",
      "At random state 59,the testing accuracy is: 0.4534883190150507\n",
      "\n",
      "\n",
      "At random state 60,the training accuracy is: 0.4572781235061678\n",
      "At random state 60,the testing accuracy is: 0.48590535627884135\n",
      "\n",
      "\n",
      "At random state 61,the training accuracy is: 0.46983574562061814\n",
      "At random state 61,the testing accuracy is: 0.4360204097561149\n",
      "\n",
      "\n",
      "At random state 62,the training accuracy is: 0.46748751251960385\n",
      "At random state 62,the testing accuracy is: 0.44594605523046216\n",
      "\n",
      "\n",
      "At random state 63,the training accuracy is: 0.46246201452255375\n",
      "At random state 63,the testing accuracy is: 0.46623255088679405\n",
      "\n",
      "\n",
      "At random state 64,the training accuracy is: 0.4633390400166685\n",
      "At random state 64,the testing accuracy is: 0.4627665023295383\n",
      "\n",
      "\n",
      "At random state 65,the training accuracy is: 0.4633139961136489\n",
      "At random state 65,the testing accuracy is: 0.4629383495816717\n",
      "\n",
      "\n",
      "At random state 66,the training accuracy is: 0.4659951794771203\n",
      "At random state 66,the testing accuracy is: 0.45126495639375863\n",
      "\n",
      "\n",
      "At random state 67,the training accuracy is: 0.4634095966098002\n",
      "At random state 67,the testing accuracy is: 0.4626455997014566\n",
      "\n",
      "\n",
      "At random state 68,the training accuracy is: 0.46164549423504697\n",
      "At random state 68,the testing accuracy is: 0.4692184443312334\n",
      "\n",
      "\n",
      "At random state 69,the training accuracy is: 0.46088134059609254\n",
      "At random state 69,the testing accuracy is: 0.47229569527132376\n",
      "\n",
      "\n",
      "At random state 70,the training accuracy is: 0.46142674844850395\n",
      "At random state 70,the testing accuracy is: 0.4698180867765237\n",
      "\n",
      "\n",
      "At random state 71,the training accuracy is: 0.46124110914726424\n",
      "At random state 71,the testing accuracy is: 0.47102935549254943\n",
      "\n",
      "\n",
      "At random state 72,the training accuracy is: 0.4631150758189787\n",
      "At random state 72,the testing accuracy is: 0.46315471054147817\n",
      "\n",
      "\n",
      "At random state 73,the training accuracy is: 0.4638009381422762\n",
      "At random state 73,the testing accuracy is: 0.4608840712030424\n",
      "\n",
      "\n",
      "At random state 74,the training accuracy is: 0.461485634566148\n",
      "At random state 74,the testing accuracy is: 0.47031686590773736\n",
      "\n",
      "\n",
      "At random state 75,the training accuracy is: 0.46333218749423166\n",
      "At random state 75,the testing accuracy is: 0.46301539568130656\n",
      "\n",
      "\n",
      "At random state 76,the training accuracy is: 0.4614516734322366\n",
      "At random state 76,the testing accuracy is: 0.47073155779370646\n",
      "\n",
      "\n",
      "At random state 77,the training accuracy is: 0.46303028410156555\n",
      "At random state 77,the testing accuracy is: 0.46403754468164915\n",
      "\n",
      "\n",
      "At random state 78,the training accuracy is: 0.46345518085123694\n",
      "At random state 78,the testing accuracy is: 0.462475982449265\n",
      "\n",
      "\n",
      "At random state 79,the training accuracy is: 0.45943195324217\n",
      "At random state 79,the testing accuracy is: 0.47875358726697437\n",
      "\n",
      "\n",
      "At random state 80,the training accuracy is: 0.4636059472997074\n",
      "At random state 80,the testing accuracy is: 0.46165253671015427\n",
      "\n",
      "\n",
      "At random state 81,the training accuracy is: 0.46340656380558587\n",
      "At random state 81,the testing accuracy is: 0.4627671989716786\n",
      "\n",
      "\n",
      "At random state 82,the training accuracy is: 0.460595183729655\n",
      "At random state 82,the testing accuracy is: 0.47381832408196856\n",
      "\n",
      "\n",
      "At random state 83,the training accuracy is: 0.4664446218890592\n",
      "At random state 83,the testing accuracy is: 0.44997108106062333\n",
      "\n",
      "\n",
      "At random state 84,the training accuracy is: 0.4645178788851718\n",
      "At random state 84,the testing accuracy is: 0.4578157257473566\n",
      "\n",
      "\n",
      "At random state 85,the training accuracy is: 0.4586524301647077\n",
      "At random state 85,the testing accuracy is: 0.479463993476007\n",
      "\n",
      "\n",
      "At random state 86,the training accuracy is: 0.46200105843782435\n",
      "At random state 86,the testing accuracy is: 0.46807395601883917\n",
      "\n",
      "\n",
      "At random state 87,the training accuracy is: 0.46564451238922755\n",
      "At random state 87,the testing accuracy is: 0.4537342117875165\n",
      "\n",
      "\n",
      "At random state 88,the training accuracy is: 0.4646300283846344\n",
      "At random state 88,the testing accuracy is: 0.45758715524201854\n",
      "\n",
      "\n",
      "At random state 89,the training accuracy is: 0.46233652759833255\n",
      "At random state 89,the testing accuracy is: 0.46707066636947914\n",
      "\n",
      "\n",
      "At random state 90,the training accuracy is: 0.4685338977244864\n",
      "At random state 90,the testing accuracy is: 0.44154753583126827\n",
      "\n",
      "\n",
      "At random state 91,the training accuracy is: 0.46532228316508273\n",
      "At random state 91,the testing accuracy is: 0.45454615575157653\n",
      "\n",
      "\n",
      "At random state 92,the training accuracy is: 0.46530998223201203\n",
      "At random state 92,the testing accuracy is: 0.45425717151939937\n",
      "\n",
      "\n",
      "At random state 93,the training accuracy is: 0.46483244460380746\n",
      "At random state 93,the testing accuracy is: 0.4570846456452754\n",
      "\n",
      "\n",
      "At random state 94,the training accuracy is: 0.46520828140975445\n",
      "At random state 94,the testing accuracy is: 0.45515206699548405\n",
      "\n",
      "\n",
      "At random state 95,the training accuracy is: 0.46063298216387905\n",
      "At random state 95,the testing accuracy is: 0.47374907335852035\n",
      "\n",
      "\n",
      "At random state 96,the training accuracy is: 0.46142898686133593\n",
      "At random state 96,the testing accuracy is: 0.4704354868308791\n",
      "\n",
      "\n",
      "At random state 97,the training accuracy is: 0.4651013593481982\n",
      "At random state 97,the testing accuracy is: 0.4557354867972695\n",
      "\n",
      "\n",
      "At random state 98,the training accuracy is: 0.46615094219862485\n",
      "At random state 98,the testing accuracy is: 0.4512077467321989\n",
      "\n",
      "\n",
      "At random state 99,the training accuracy is: 0.4648488811071563\n",
      "At random state 99,the testing accuracy is: 0.4560260057526023\n",
      "\n",
      "\n"
     ]
    }
   ],
   "source": [
    "for i in range(0,100):\n",
    "    x_train,x_test,y_train,y_test=train_test_split(x,y,test_size=0.20,random_state=i)\n",
    "    lr=LinearRegression()\n",
    "    lr.fit(x_train,y_train)\n",
    "    pred_train=lr.predict(x_train)\n",
    "    pred_test=lr.predict(x_test)\n",
    "    print(f'At random state {i},the training accuracy is: {r2_score(y_train,pred_train)}')\n",
    "    print(f'At random state {i},the testing accuracy is: {r2_score(y_test,pred_test)}')\n",
    "    print('\\n')"
   ]
  },
  {
   "cell_type": "code",
   "execution_count": 59,
   "metadata": {},
   "outputs": [],
   "source": [
    "x_train,x_test,y_train,y_test=train_test_split(x,y,test_size=.20,random_state=77)"
   ]
  },
  {
   "cell_type": "code",
   "execution_count": 60,
   "metadata": {},
   "outputs": [
    {
     "data": {
      "text/html": [
       "<div>\n",
       "<style scoped>\n",
       "    .dataframe tbody tr th:only-of-type {\n",
       "        vertical-align: middle;\n",
       "    }\n",
       "\n",
       "    .dataframe tbody tr th {\n",
       "        vertical-align: top;\n",
       "    }\n",
       "\n",
       "    .dataframe thead th {\n",
       "        text-align: right;\n",
       "    }\n",
       "</style>\n",
       "<table border=\"1\" class=\"dataframe\">\n",
       "  <thead>\n",
       "    <tr style=\"text-align: right;\">\n",
       "      <th></th>\n",
       "      <th>Total Volume</th>\n",
       "      <th>Total Bags</th>\n",
       "      <th>Small Bags</th>\n",
       "      <th>Large Bags</th>\n",
       "      <th>XLarge Bags</th>\n",
       "      <th>year</th>\n",
       "      <th>region</th>\n",
       "      <th>PL1</th>\n",
       "      <th>PL2</th>\n",
       "      <th>PL3</th>\n",
       "      <th>Month</th>\n",
       "    </tr>\n",
       "  </thead>\n",
       "  <tbody>\n",
       "    <tr>\n",
       "      <th>16869</th>\n",
       "      <td>1.288210</td>\n",
       "      <td>1.625996</td>\n",
       "      <td>1.519778</td>\n",
       "      <td>1.325850</td>\n",
       "      <td>-0.210616</td>\n",
       "      <td>0.917166</td>\n",
       "      <td>1.617146</td>\n",
       "      <td>0.856473</td>\n",
       "      <td>1.069541</td>\n",
       "      <td>0.828673</td>\n",
       "      <td>-0.132786</td>\n",
       "    </tr>\n",
       "    <tr>\n",
       "      <th>5912</th>\n",
       "      <td>0.338238</td>\n",
       "      <td>0.431111</td>\n",
       "      <td>0.554067</td>\n",
       "      <td>0.252927</td>\n",
       "      <td>-0.627319</td>\n",
       "      <td>0.917166</td>\n",
       "      <td>-1.045957</td>\n",
       "      <td>0.699784</td>\n",
       "      <td>0.127179</td>\n",
       "      <td>0.605939</td>\n",
       "      <td>0.465048</td>\n",
       "    </tr>\n",
       "    <tr>\n",
       "      <th>3981</th>\n",
       "      <td>1.096561</td>\n",
       "      <td>1.043080</td>\n",
       "      <td>0.493248</td>\n",
       "      <td>1.357452</td>\n",
       "      <td>-0.627319</td>\n",
       "      <td>-0.146424</td>\n",
       "      <td>-0.136605</td>\n",
       "      <td>1.243761</td>\n",
       "      <td>0.857027</td>\n",
       "      <td>0.079427</td>\n",
       "      <td>0.465048</td>\n",
       "    </tr>\n",
       "    <tr>\n",
       "      <th>7836</th>\n",
       "      <td>0.234915</td>\n",
       "      <td>0.538408</td>\n",
       "      <td>0.558430</td>\n",
       "      <td>0.746831</td>\n",
       "      <td>0.744271</td>\n",
       "      <td>0.917166</td>\n",
       "      <td>1.357331</td>\n",
       "      <td>0.317706</td>\n",
       "      <td>0.170192</td>\n",
       "      <td>0.346278</td>\n",
       "      <td>-0.730620</td>\n",
       "    </tr>\n",
       "    <tr>\n",
       "      <th>12856</th>\n",
       "      <td>-1.566883</td>\n",
       "      <td>-1.090184</td>\n",
       "      <td>-0.988014</td>\n",
       "      <td>-0.006892</td>\n",
       "      <td>-0.627319</td>\n",
       "      <td>-0.146424</td>\n",
       "      <td>0.058256</td>\n",
       "      <td>-1.289853</td>\n",
       "      <td>-3.516699</td>\n",
       "      <td>-1.215018</td>\n",
       "      <td>1.062882</td>\n",
       "    </tr>\n",
       "    <tr>\n",
       "      <th>...</th>\n",
       "      <td>...</td>\n",
       "      <td>...</td>\n",
       "      <td>...</td>\n",
       "      <td>...</td>\n",
       "      <td>...</td>\n",
       "      <td>...</td>\n",
       "      <td>...</td>\n",
       "      <td>...</td>\n",
       "      <td>...</td>\n",
       "      <td>...</td>\n",
       "      <td>...</td>\n",
       "    </tr>\n",
       "    <tr>\n",
       "      <th>4832</th>\n",
       "      <td>0.925076</td>\n",
       "      <td>0.962628</td>\n",
       "      <td>1.009350</td>\n",
       "      <td>0.619530</td>\n",
       "      <td>0.986456</td>\n",
       "      <td>-0.146424</td>\n",
       "      <td>0.967609</td>\n",
       "      <td>1.008904</td>\n",
       "      <td>0.830835</td>\n",
       "      <td>1.123815</td>\n",
       "      <td>1.660716</td>\n",
       "    </tr>\n",
       "    <tr>\n",
       "      <th>7832</th>\n",
       "      <td>0.109044</td>\n",
       "      <td>0.328415</td>\n",
       "      <td>0.483883</td>\n",
       "      <td>-1.232674</td>\n",
       "      <td>-0.065093</td>\n",
       "      <td>0.917166</td>\n",
       "      <td>1.357331</td>\n",
       "      <td>0.332314</td>\n",
       "      <td>0.136769</td>\n",
       "      <td>-0.446080</td>\n",
       "      <td>0.465048</td>\n",
       "    </tr>\n",
       "    <tr>\n",
       "      <th>9509</th>\n",
       "      <td>-1.496715</td>\n",
       "      <td>-1.037950</td>\n",
       "      <td>-0.702562</td>\n",
       "      <td>-1.225923</td>\n",
       "      <td>-0.627319</td>\n",
       "      <td>-1.210013</td>\n",
       "      <td>-0.656235</td>\n",
       "      <td>-1.443265</td>\n",
       "      <td>-1.700455</td>\n",
       "      <td>-0.491858</td>\n",
       "      <td>-1.328454</td>\n",
       "    </tr>\n",
       "    <tr>\n",
       "      <th>8799</th>\n",
       "      <td>-0.704690</td>\n",
       "      <td>-1.008359</td>\n",
       "      <td>-0.675367</td>\n",
       "      <td>-1.860427</td>\n",
       "      <td>-0.627319</td>\n",
       "      <td>-1.210013</td>\n",
       "      <td>-1.565588</td>\n",
       "      <td>0.049317</td>\n",
       "      <td>-0.513802</td>\n",
       "      <td>0.467474</td>\n",
       "      <td>-1.627372</td>\n",
       "    </tr>\n",
       "    <tr>\n",
       "      <th>15063</th>\n",
       "      <td>0.160044</td>\n",
       "      <td>0.108647</td>\n",
       "      <td>0.192757</td>\n",
       "      <td>0.486986</td>\n",
       "      <td>-0.627319</td>\n",
       "      <td>0.917166</td>\n",
       "      <td>-0.721189</td>\n",
       "      <td>-0.164322</td>\n",
       "      <td>0.521450</td>\n",
       "      <td>-1.215018</td>\n",
       "      <td>-0.431703</td>\n",
       "    </tr>\n",
       "  </tbody>\n",
       "</table>\n",
       "<p>14120 rows × 11 columns</p>\n",
       "</div>"
      ],
      "text/plain": [
       "       Total Volume  Total Bags  Small Bags  Large Bags  XLarge Bags  \\\n",
       "16869      1.288210    1.625996    1.519778    1.325850    -0.210616   \n",
       "5912       0.338238    0.431111    0.554067    0.252927    -0.627319   \n",
       "3981       1.096561    1.043080    0.493248    1.357452    -0.627319   \n",
       "7836       0.234915    0.538408    0.558430    0.746831     0.744271   \n",
       "12856     -1.566883   -1.090184   -0.988014   -0.006892    -0.627319   \n",
       "...             ...         ...         ...         ...          ...   \n",
       "4832       0.925076    0.962628    1.009350    0.619530     0.986456   \n",
       "7832       0.109044    0.328415    0.483883   -1.232674    -0.065093   \n",
       "9509      -1.496715   -1.037950   -0.702562   -1.225923    -0.627319   \n",
       "8799      -0.704690   -1.008359   -0.675367   -1.860427    -0.627319   \n",
       "15063      0.160044    0.108647    0.192757    0.486986    -0.627319   \n",
       "\n",
       "           year    region       PL1       PL2       PL3     Month  \n",
       "16869  0.917166  1.617146  0.856473  1.069541  0.828673 -0.132786  \n",
       "5912   0.917166 -1.045957  0.699784  0.127179  0.605939  0.465048  \n",
       "3981  -0.146424 -0.136605  1.243761  0.857027  0.079427  0.465048  \n",
       "7836   0.917166  1.357331  0.317706  0.170192  0.346278 -0.730620  \n",
       "12856 -0.146424  0.058256 -1.289853 -3.516699 -1.215018  1.062882  \n",
       "...         ...       ...       ...       ...       ...       ...  \n",
       "4832  -0.146424  0.967609  1.008904  0.830835  1.123815  1.660716  \n",
       "7832   0.917166  1.357331  0.332314  0.136769 -0.446080  0.465048  \n",
       "9509  -1.210013 -0.656235 -1.443265 -1.700455 -0.491858 -1.328454  \n",
       "8799  -1.210013 -1.565588  0.049317 -0.513802  0.467474 -1.627372  \n",
       "15063  0.917166 -0.721189 -0.164322  0.521450 -1.215018 -0.431703  \n",
       "\n",
       "[14120 rows x 11 columns]"
      ]
     },
     "execution_count": 60,
     "metadata": {},
     "output_type": "execute_result"
    }
   ],
   "source": [
    "x_train"
   ]
  },
  {
   "cell_type": "code",
   "execution_count": 61,
   "metadata": {},
   "outputs": [
    {
     "data": {
      "text/html": [
       "<div>\n",
       "<style scoped>\n",
       "    .dataframe tbody tr th:only-of-type {\n",
       "        vertical-align: middle;\n",
       "    }\n",
       "\n",
       "    .dataframe tbody tr th {\n",
       "        vertical-align: top;\n",
       "    }\n",
       "\n",
       "    .dataframe thead th {\n",
       "        text-align: right;\n",
       "    }\n",
       "</style>\n",
       "<table border=\"1\" class=\"dataframe\">\n",
       "  <thead>\n",
       "    <tr style=\"text-align: right;\">\n",
       "      <th></th>\n",
       "      <th>Total Volume</th>\n",
       "      <th>Total Bags</th>\n",
       "      <th>Small Bags</th>\n",
       "      <th>Large Bags</th>\n",
       "      <th>XLarge Bags</th>\n",
       "      <th>year</th>\n",
       "      <th>region</th>\n",
       "      <th>PL1</th>\n",
       "      <th>PL2</th>\n",
       "      <th>PL3</th>\n",
       "      <th>Month</th>\n",
       "    </tr>\n",
       "  </thead>\n",
       "  <tbody>\n",
       "    <tr>\n",
       "      <th>10308</th>\n",
       "      <td>-1.589156</td>\n",
       "      <td>-1.853381</td>\n",
       "      <td>-1.408247</td>\n",
       "      <td>-1.860427</td>\n",
       "      <td>-0.627319</td>\n",
       "      <td>-1.210013</td>\n",
       "      <td>0.318071</td>\n",
       "      <td>-0.422136</td>\n",
       "      <td>-1.907491</td>\n",
       "      <td>-1.215018</td>\n",
       "      <td>-1.627372</td>\n",
       "    </tr>\n",
       "    <tr>\n",
       "      <th>8112</th>\n",
       "      <td>0.163872</td>\n",
       "      <td>0.095965</td>\n",
       "      <td>0.140109</td>\n",
       "      <td>0.557860</td>\n",
       "      <td>0.492442</td>\n",
       "      <td>1.980756</td>\n",
       "      <td>-1.500634</td>\n",
       "      <td>0.692857</td>\n",
       "      <td>-0.769733</td>\n",
       "      <td>0.985795</td>\n",
       "      <td>-0.431703</td>\n",
       "    </tr>\n",
       "    <tr>\n",
       "      <th>671</th>\n",
       "      <td>1.101247</td>\n",
       "      <td>0.860441</td>\n",
       "      <td>0.674599</td>\n",
       "      <td>1.128348</td>\n",
       "      <td>0.236545</td>\n",
       "      <td>-1.210013</td>\n",
       "      <td>-0.916050</td>\n",
       "      <td>0.946342</td>\n",
       "      <td>1.234815</td>\n",
       "      <td>0.861624</td>\n",
       "      <td>-0.431703</td>\n",
       "    </tr>\n",
       "    <tr>\n",
       "      <th>17290</th>\n",
       "      <td>-1.270756</td>\n",
       "      <td>-0.910435</td>\n",
       "      <td>-0.763216</td>\n",
       "      <td>0.026976</td>\n",
       "      <td>-0.627319</td>\n",
       "      <td>1.980756</td>\n",
       "      <td>-0.201559</td>\n",
       "      <td>-2.228213</td>\n",
       "      <td>-0.947157</td>\n",
       "      <td>-1.215018</td>\n",
       "      <td>-0.431703</td>\n",
       "    </tr>\n",
       "    <tr>\n",
       "      <th>10098</th>\n",
       "      <td>-1.509716</td>\n",
       "      <td>-1.092315</td>\n",
       "      <td>-0.748181</td>\n",
       "      <td>-1.860427</td>\n",
       "      <td>-0.627319</td>\n",
       "      <td>-1.210013</td>\n",
       "      <td>0.058256</td>\n",
       "      <td>-0.917604</td>\n",
       "      <td>-1.911294</td>\n",
       "      <td>-1.215018</td>\n",
       "      <td>-1.627372</td>\n",
       "    </tr>\n",
       "    <tr>\n",
       "      <th>...</th>\n",
       "      <td>...</td>\n",
       "      <td>...</td>\n",
       "      <td>...</td>\n",
       "      <td>...</td>\n",
       "      <td>...</td>\n",
       "      <td>...</td>\n",
       "      <td>...</td>\n",
       "      <td>...</td>\n",
       "      <td>...</td>\n",
       "      <td>...</td>\n",
       "      <td>...</td>\n",
       "    </tr>\n",
       "    <tr>\n",
       "      <th>10591</th>\n",
       "      <td>-1.176376</td>\n",
       "      <td>-1.029486</td>\n",
       "      <td>-0.776034</td>\n",
       "      <td>-0.210081</td>\n",
       "      <td>-0.627319</td>\n",
       "      <td>-1.210013</td>\n",
       "      <td>0.707794</td>\n",
       "      <td>-1.383209</td>\n",
       "      <td>-0.722083</td>\n",
       "      <td>0.417453</td>\n",
       "      <td>1.062882</td>\n",
       "    </tr>\n",
       "    <tr>\n",
       "      <th>12988</th>\n",
       "      <td>0.236527</td>\n",
       "      <td>0.628458</td>\n",
       "      <td>0.669621</td>\n",
       "      <td>0.712214</td>\n",
       "      <td>-0.627319</td>\n",
       "      <td>-0.146424</td>\n",
       "      <td>0.188164</td>\n",
       "      <td>-0.092226</td>\n",
       "      <td>0.130648</td>\n",
       "      <td>0.681054</td>\n",
       "      <td>0.763965</td>\n",
       "    </tr>\n",
       "    <tr>\n",
       "      <th>2785</th>\n",
       "      <td>0.817490</td>\n",
       "      <td>0.951776</td>\n",
       "      <td>0.815706</td>\n",
       "      <td>1.128585</td>\n",
       "      <td>1.128724</td>\n",
       "      <td>-0.146424</td>\n",
       "      <td>-1.630541</td>\n",
       "      <td>0.988901</td>\n",
       "      <td>0.557455</td>\n",
       "      <td>0.001250</td>\n",
       "      <td>1.660716</td>\n",
       "    </tr>\n",
       "    <tr>\n",
       "      <th>3205</th>\n",
       "      <td>0.615204</td>\n",
       "      <td>0.796698</td>\n",
       "      <td>0.228804</td>\n",
       "      <td>1.214696</td>\n",
       "      <td>1.911092</td>\n",
       "      <td>-0.146424</td>\n",
       "      <td>-1.110911</td>\n",
       "      <td>-0.077634</td>\n",
       "      <td>0.763206</td>\n",
       "      <td>0.987117</td>\n",
       "      <td>-0.132786</td>\n",
       "    </tr>\n",
       "    <tr>\n",
       "      <th>691</th>\n",
       "      <td>0.803583</td>\n",
       "      <td>0.493324</td>\n",
       "      <td>0.516828</td>\n",
       "      <td>-0.001034</td>\n",
       "      <td>2.302073</td>\n",
       "      <td>-1.210013</td>\n",
       "      <td>-0.851096</td>\n",
       "      <td>0.994654</td>\n",
       "      <td>0.549763</td>\n",
       "      <td>1.649849</td>\n",
       "      <td>-1.328454</td>\n",
       "    </tr>\n",
       "  </tbody>\n",
       "</table>\n",
       "<p>3531 rows × 11 columns</p>\n",
       "</div>"
      ],
      "text/plain": [
       "       Total Volume  Total Bags  Small Bags  Large Bags  XLarge Bags  \\\n",
       "10308     -1.589156   -1.853381   -1.408247   -1.860427    -0.627319   \n",
       "8112       0.163872    0.095965    0.140109    0.557860     0.492442   \n",
       "671        1.101247    0.860441    0.674599    1.128348     0.236545   \n",
       "17290     -1.270756   -0.910435   -0.763216    0.026976    -0.627319   \n",
       "10098     -1.509716   -1.092315   -0.748181   -1.860427    -0.627319   \n",
       "...             ...         ...         ...         ...          ...   \n",
       "10591     -1.176376   -1.029486   -0.776034   -0.210081    -0.627319   \n",
       "12988      0.236527    0.628458    0.669621    0.712214    -0.627319   \n",
       "2785       0.817490    0.951776    0.815706    1.128585     1.128724   \n",
       "3205       0.615204    0.796698    0.228804    1.214696     1.911092   \n",
       "691        0.803583    0.493324    0.516828   -0.001034     2.302073   \n",
       "\n",
       "           year    region       PL1       PL2       PL3     Month  \n",
       "10308 -1.210013  0.318071 -0.422136 -1.907491 -1.215018 -1.627372  \n",
       "8112   1.980756 -1.500634  0.692857 -0.769733  0.985795 -0.431703  \n",
       "671   -1.210013 -0.916050  0.946342  1.234815  0.861624 -0.431703  \n",
       "17290  1.980756 -0.201559 -2.228213 -0.947157 -1.215018 -0.431703  \n",
       "10098 -1.210013  0.058256 -0.917604 -1.911294 -1.215018 -1.627372  \n",
       "...         ...       ...       ...       ...       ...       ...  \n",
       "10591 -1.210013  0.707794 -1.383209 -0.722083  0.417453  1.062882  \n",
       "12988 -0.146424  0.188164 -0.092226  0.130648  0.681054  0.763965  \n",
       "2785  -0.146424 -1.630541  0.988901  0.557455  0.001250  1.660716  \n",
       "3205  -0.146424 -1.110911 -0.077634  0.763206  0.987117 -0.132786  \n",
       "691   -1.210013 -0.851096  0.994654  0.549763  1.649849 -1.328454  \n",
       "\n",
       "[3531 rows x 11 columns]"
      ]
     },
     "execution_count": 61,
     "metadata": {},
     "output_type": "execute_result"
    }
   ],
   "source": [
    "x_test"
   ]
  },
  {
   "cell_type": "code",
   "execution_count": null,
   "metadata": {},
   "outputs": [],
   "source": []
  },
  {
   "cell_type": "code",
   "execution_count": 62,
   "metadata": {},
   "outputs": [
    {
     "data": {
      "text/html": [
       "<div>\n",
       "<style scoped>\n",
       "    .dataframe tbody tr th:only-of-type {\n",
       "        vertical-align: middle;\n",
       "    }\n",
       "\n",
       "    .dataframe tbody tr th {\n",
       "        vertical-align: top;\n",
       "    }\n",
       "\n",
       "    .dataframe thead th {\n",
       "        text-align: right;\n",
       "    }\n",
       "</style>\n",
       "<table border=\"1\" class=\"dataframe\">\n",
       "  <thead>\n",
       "    <tr style=\"text-align: right;\">\n",
       "      <th></th>\n",
       "      <th>AveragePrice</th>\n",
       "    </tr>\n",
       "  </thead>\n",
       "  <tbody>\n",
       "    <tr>\n",
       "      <th>17467</th>\n",
       "      <td>1.76</td>\n",
       "    </tr>\n",
       "    <tr>\n",
       "      <th>6186</th>\n",
       "      <td>1.26</td>\n",
       "    </tr>\n",
       "    <tr>\n",
       "      <th>4097</th>\n",
       "      <td>0.88</td>\n",
       "    </tr>\n",
       "    <tr>\n",
       "      <th>8151</th>\n",
       "      <td>0.75</td>\n",
       "    </tr>\n",
       "    <tr>\n",
       "      <th>13341</th>\n",
       "      <td>1.48</td>\n",
       "    </tr>\n",
       "    <tr>\n",
       "      <th>...</th>\n",
       "      <td>...</td>\n",
       "    </tr>\n",
       "    <tr>\n",
       "      <th>4956</th>\n",
       "      <td>1.06</td>\n",
       "    </tr>\n",
       "    <tr>\n",
       "      <th>8147</th>\n",
       "      <td>1.09</td>\n",
       "    </tr>\n",
       "    <tr>\n",
       "      <th>9976</th>\n",
       "      <td>1.70</td>\n",
       "    </tr>\n",
       "    <tr>\n",
       "      <th>9266</th>\n",
       "      <td>1.64</td>\n",
       "    </tr>\n",
       "    <tr>\n",
       "      <th>15588</th>\n",
       "      <td>1.44</td>\n",
       "    </tr>\n",
       "  </tbody>\n",
       "</table>\n",
       "<p>14120 rows × 1 columns</p>\n",
       "</div>"
      ],
      "text/plain": [
       "       AveragePrice\n",
       "17467          1.76\n",
       "6186           1.26\n",
       "4097           0.88\n",
       "8151           0.75\n",
       "13341          1.48\n",
       "...             ...\n",
       "4956           1.06\n",
       "8147           1.09\n",
       "9976           1.70\n",
       "9266           1.64\n",
       "15588          1.44\n",
       "\n",
       "[14120 rows x 1 columns]"
      ]
     },
     "execution_count": 62,
     "metadata": {},
     "output_type": "execute_result"
    }
   ],
   "source": [
    "y_train"
   ]
  },
  {
   "cell_type": "code",
   "execution_count": 63,
   "metadata": {},
   "outputs": [
    {
     "data": {
      "text/html": [
       "<div>\n",
       "<style scoped>\n",
       "    .dataframe tbody tr th:only-of-type {\n",
       "        vertical-align: middle;\n",
       "    }\n",
       "\n",
       "    .dataframe tbody tr th {\n",
       "        vertical-align: top;\n",
       "    }\n",
       "\n",
       "    .dataframe thead th {\n",
       "        text-align: right;\n",
       "    }\n",
       "</style>\n",
       "<table border=\"1\" class=\"dataframe\">\n",
       "  <thead>\n",
       "    <tr style=\"text-align: right;\">\n",
       "      <th></th>\n",
       "      <th>AveragePrice</th>\n",
       "    </tr>\n",
       "  </thead>\n",
       "  <tbody>\n",
       "    <tr>\n",
       "      <th>10775</th>\n",
       "      <td>1.89</td>\n",
       "    </tr>\n",
       "    <tr>\n",
       "      <th>8522</th>\n",
       "      <td>1.12</td>\n",
       "    </tr>\n",
       "    <tr>\n",
       "      <th>673</th>\n",
       "      <td>0.99</td>\n",
       "    </tr>\n",
       "    <tr>\n",
       "      <th>17888</th>\n",
       "      <td>1.38</td>\n",
       "    </tr>\n",
       "    <tr>\n",
       "      <th>10565</th>\n",
       "      <td>1.56</td>\n",
       "    </tr>\n",
       "    <tr>\n",
       "      <th>...</th>\n",
       "      <td>...</td>\n",
       "    </tr>\n",
       "    <tr>\n",
       "      <th>11058</th>\n",
       "      <td>1.65</td>\n",
       "    </tr>\n",
       "    <tr>\n",
       "      <th>13474</th>\n",
       "      <td>1.78</td>\n",
       "    </tr>\n",
       "    <tr>\n",
       "      <th>2873</th>\n",
       "      <td>1.26</td>\n",
       "    </tr>\n",
       "    <tr>\n",
       "      <th>3299</th>\n",
       "      <td>1.05</td>\n",
       "    </tr>\n",
       "    <tr>\n",
       "      <th>693</th>\n",
       "      <td>0.96</td>\n",
       "    </tr>\n",
       "  </tbody>\n",
       "</table>\n",
       "<p>3531 rows × 1 columns</p>\n",
       "</div>"
      ],
      "text/plain": [
       "       AveragePrice\n",
       "10775          1.89\n",
       "8522           1.12\n",
       "673            0.99\n",
       "17888          1.38\n",
       "10565          1.56\n",
       "...             ...\n",
       "11058          1.65\n",
       "13474          1.78\n",
       "2873           1.26\n",
       "3299           1.05\n",
       "693            0.96\n",
       "\n",
       "[3531 rows x 1 columns]"
      ]
     },
     "execution_count": 63,
     "metadata": {},
     "output_type": "execute_result"
    }
   ],
   "source": [
    "y_test"
   ]
  },
  {
   "cell_type": "markdown",
   "metadata": {},
   "source": [
    "SupportVectorRegression model"
   ]
  },
  {
   "cell_type": "code",
   "execution_count": 64,
   "metadata": {},
   "outputs": [
    {
     "name": "stdout",
     "output_type": "stream",
     "text": [
      "0.4597364636188289\n",
      "0.5817213591108499\n",
      "0.7573526091052729\n"
     ]
    }
   ],
   "source": [
    "from sklearn.svm import SVR\n",
    "kernellist=['linear','poly','rbf']\n",
    "for i in kernellist:\n",
    "    sv=SVR(kernel=i)\n",
    "    sv.fit(x_train,y_train)\n",
    "    print(sv.score(x_train,y_train))"
   ]
  },
  {
   "cell_type": "markdown",
   "metadata": {},
   "source": [
    "Various model and checking the accuracy"
   ]
  },
  {
   "cell_type": "code",
   "execution_count": 65,
   "metadata": {},
   "outputs": [
    {
     "data": {
      "text/html": [
       "<div>\n",
       "<style scoped>\n",
       "    .dataframe tbody tr th:only-of-type {\n",
       "        vertical-align: middle;\n",
       "    }\n",
       "\n",
       "    .dataframe tbody tr th {\n",
       "        vertical-align: top;\n",
       "    }\n",
       "\n",
       "    .dataframe thead th {\n",
       "        text-align: right;\n",
       "    }\n",
       "</style>\n",
       "<table border=\"1\" class=\"dataframe\">\n",
       "  <thead>\n",
       "    <tr style=\"text-align: right;\">\n",
       "      <th></th>\n",
       "      <th>Model</th>\n",
       "      <th>Training Score</th>\n",
       "      <th>Test Score</th>\n",
       "      <th>Mean Square Error</th>\n",
       "      <th>Cross Validation Score</th>\n",
       "    </tr>\n",
       "  </thead>\n",
       "  <tbody>\n",
       "    <tr>\n",
       "      <th>0</th>\n",
       "      <td>Linear Regression</td>\n",
       "      <td>0.463030</td>\n",
       "      <td>0.464038</td>\n",
       "      <td>0.078956</td>\n",
       "      <td>0.462497</td>\n",
       "    </tr>\n",
       "    <tr>\n",
       "      <th>1</th>\n",
       "      <td>SupportVector</td>\n",
       "      <td>0.757353</td>\n",
       "      <td>0.740535</td>\n",
       "      <td>0.038224</td>\n",
       "      <td>0.738445</td>\n",
       "    </tr>\n",
       "    <tr>\n",
       "      <th>2</th>\n",
       "      <td>DecisionTree</td>\n",
       "      <td>1.000000</td>\n",
       "      <td>0.724623</td>\n",
       "      <td>0.040568</td>\n",
       "      <td>0.733369</td>\n",
       "    </tr>\n",
       "    <tr>\n",
       "      <th>3</th>\n",
       "      <td>RandomForest</td>\n",
       "      <td>0.982320</td>\n",
       "      <td>0.878525</td>\n",
       "      <td>0.017895</td>\n",
       "      <td>0.875279</td>\n",
       "    </tr>\n",
       "    <tr>\n",
       "      <th>4</th>\n",
       "      <td>KNN</td>\n",
       "      <td>0.890970</td>\n",
       "      <td>0.811452</td>\n",
       "      <td>0.027776</td>\n",
       "      <td>0.819195</td>\n",
       "    </tr>\n",
       "    <tr>\n",
       "      <th>5</th>\n",
       "      <td>AdaBoost</td>\n",
       "      <td>0.501786</td>\n",
       "      <td>0.497570</td>\n",
       "      <td>0.074016</td>\n",
       "      <td>0.484699</td>\n",
       "    </tr>\n",
       "  </tbody>\n",
       "</table>\n",
       "</div>"
      ],
      "text/plain": [
       "               Model  Training Score  Test Score  Mean Square Error  \\\n",
       "0  Linear Regression        0.463030    0.464038           0.078956   \n",
       "1      SupportVector        0.757353    0.740535           0.038224   \n",
       "2       DecisionTree        1.000000    0.724623           0.040568   \n",
       "3       RandomForest        0.982320    0.878525           0.017895   \n",
       "4                KNN        0.890970    0.811452           0.027776   \n",
       "5           AdaBoost        0.501786    0.497570           0.074016   \n",
       "\n",
       "   Cross Validation Score  \n",
       "0                0.462497  \n",
       "1                0.738445  \n",
       "2                0.733369  \n",
       "3                0.875279  \n",
       "4                0.819195  \n",
       "5                0.484699  "
      ]
     },
     "execution_count": 65,
     "metadata": {},
     "output_type": "execute_result"
    }
   ],
   "source": [
    "sv=SVR(kernel='rbf')\n",
    "dt=DecisionTreeRegressor()\n",
    "rf=RandomForestRegressor()\n",
    "kn=KNeighborsRegressor()\n",
    "ab=AdaBoostRegressor()\n",
    "\n",
    "model=[lr,sv,dt,rf,kn,ab]\n",
    "kf = KFold(n_splits=5, random_state=54, shuffle=True)\n",
    "\n",
    "train=[]\n",
    "test=[]\n",
    "Mse=[]\n",
    "cv=[]\n",
    "\n",
    "for m in model:\n",
    "    m.fit(x_train,y_train)\n",
    "    pred_train=m.predict(x_train)\n",
    "    pred_test=m.predict(x_test)\n",
    "    train_score=r2_score(y_train,pred_train)\n",
    "    train.append(train_score)\n",
    "    test_score=r2_score(y_test,pred_test)\n",
    "    test.append(test_score)\n",
    "    mse = mean_squared_error(y_test,pred_test)\n",
    "    Mse.append(mse)\n",
    "    score=cross_val_score(m,x,y,cv=kf)\n",
    "    cv.append(score.mean())\n",
    "    \n",
    "Performance={'Model':['Linear Regression','SupportVector','DecisionTree','RandomForest','KNN','AdaBoost'],\n",
    "             'Training Score':train,\n",
    "            'Test Score':test,\n",
    "            'Mean Square Error':Mse,\n",
    "            'Cross Validation Score': cv}\n",
    "Performance=pd.DataFrame(data=Performance)\n",
    "Performance"
   ]
  },
  {
   "cell_type": "markdown",
   "metadata": {},
   "source": [
    "We can say that Random Forest Regressor has performed well with test score of 87.96% and CV score of 87.51%. \n",
    "KNN has also performed well with 81.11% test accuracy and CV score of 81.91%"
   ]
  },
  {
   "cell_type": "markdown",
   "metadata": {},
   "source": [
    "# Normalization and HyperTuning"
   ]
  },
  {
   "cell_type": "markdown",
   "metadata": {},
   "source": [
    "Using Lasso for Normalization\n",
    "\n",
    "Lets check the best parameters for Lasso"
   ]
  },
  {
   "cell_type": "code",
   "execution_count": 67,
   "metadata": {},
   "outputs": [
    {
     "name": "stdout",
     "output_type": "stream",
     "text": [
      "{'alpha': 0.0001, 'random_state': 0}\n"
     ]
    }
   ],
   "source": [
    "from sklearn.model_selection import GridSearchCV\n",
    "from sklearn.linear_model import Lasso\n",
    "\n",
    "parameters={'alpha':[.0001,.001,.01,.1,1,10],'random_state':list(range(0,10))}\n",
    "ls=Lasso()\n",
    "clf=GridSearchCV(ls,parameters)\n",
    "clf.fit(x_train,y_train)\n",
    "\n",
    "print(clf.best_params_)"
   ]
  },
  {
   "cell_type": "code",
   "execution_count": 68,
   "metadata": {},
   "outputs": [
    {
     "data": {
      "text/plain": [
       "0.4639486575934152"
      ]
     },
     "execution_count": 68,
     "metadata": {},
     "output_type": "execute_result"
    }
   ],
   "source": [
    "ls=Lasso(alpha=0.0001,random_state=0)\n",
    "ls.fit(x_train,y_train)\n",
    "pred_ls=ls.predict(x_test)\n",
    "lss=r2_score(y_test,pred_ls)\n",
    "lss"
   ]
  },
  {
   "cell_type": "markdown",
   "metadata": {},
   "source": [
    "Checking cross validation score for Lasso"
   ]
  },
  {
   "cell_type": "code",
   "execution_count": 69,
   "metadata": {},
   "outputs": [
    {
     "data": {
      "text/plain": [
       "0.46250960371134797"
      ]
     },
     "execution_count": 69,
     "metadata": {},
     "output_type": "execute_result"
    }
   ],
   "source": [
    "cv_score=cross_val_score(ls,x,y,cv=kf)\n",
    "cv_mean=cv_score.mean()\n",
    "cv_mean"
   ]
  },
  {
   "cell_type": "markdown",
   "metadata": {},
   "source": [
    "We will select RandomForest and KNN as our model and Hypertune it to se if there is increase in any accuracy"
   ]
  },
  {
   "cell_type": "code",
   "execution_count": 73,
   "metadata": {},
   "outputs": [],
   "source": [
    "from sklearn.model_selection import GridSearchCV"
   ]
  },
  {
   "cell_type": "code",
   "execution_count": 75,
   "metadata": {},
   "outputs": [],
   "source": [
    "parameters = {'max_depth': [10, 20, 30, 40, None],\n",
    "              'max_features': ['auto', 'sqrt'],\n",
    "              'min_samples_leaf': [1, 2, 4],\n",
    "              'min_samples_split': [2, 5, 10],\n",
    "              'n_estimators': [5, 10, 20, 30, 50]}"
   ]
  },
  {
   "cell_type": "code",
   "execution_count": 78,
   "metadata": {},
   "outputs": [
    {
     "name": "stdout",
     "output_type": "stream",
     "text": [
      "Accuracy Score of RandomForest is 87.1396616340376\n",
      "Mean Square Error is 0.07401623394093589\n",
      "Cross Vaidation Score is 86.82746701697978\n"
     ]
    }
   ],
   "source": [
    "Finalmod=RandomForestRegressor(max_features= 'sqrt', min_samples_leaf= 1, min_samples_split=2,n_estimators=50)\n",
    "Finalmod.fit(x_train,y_train)\n",
    "pred=Finalmod.predict(x_test)\n",
    "acc=r2_score(y_test,pred)\n",
    "MSE = mean_squared_error(y_test,pred_test)\n",
    "cvs_score=cross_val_score(Finalmod,x,y,cv=kf)\n",
    "\n",
    "print('Accuracy Score of RandomForest is',acc*100)\n",
    "print('Mean Square Error is',MSE)\n",
    "print('Cross Vaidation Score is', cvs_score.mean()*100)"
   ]
  },
  {
   "cell_type": "code",
   "execution_count": 81,
   "metadata": {},
   "outputs": [
    {
     "data": {
      "image/png": "[encoded data removed]",
      "text/plain": [
       "<Figure size 576x432 with 1 Axes>"
      ]
     },
     "metadata": {
      "needs_background": "light"
     },
     "output_type": "display_data"
    }
   ],
   "source": [
    "plt.figure(figsize=(8,6))\n",
    "plt.scatter(x=y_test,y=pred,color='r')\n",
    "plt.plot(y_test,y_test,color='b')\n",
    "plt.xlabel('Actual Price',fontsize=14)\n",
    "plt.ylabel('Predicted Predicted Price',fontsize=14)\n",
    "plt.title('RandomForest Regressor',fontsize=18)\n",
    "plt.show()"
   ]
  },
  {
   "cell_type": "markdown",
   "metadata": {},
   "source": [
    "\n",
    "The model is performing with 87% accuracy. Hence we can say that we can predict 87% of the Avocado prices correctly.\n",
    "\n",
    "Lets create our object file for the final model"
   ]
  },
  {
   "cell_type": "code",
   "execution_count": 82,
   "metadata": {},
   "outputs": [
    {
     "data": {
      "text/plain": [
       "['Avocado_price_prediction.obj']"
      ]
     },
     "execution_count": 82,
     "metadata": {},
     "output_type": "execute_result"
    }
   ],
   "source": [
    "import joblib\n",
    "joblib.dump(Finalmod,'Avocado_price_prediction.obj')"
   ]
  },
  {
   "cell_type": "code",
   "execution_count": null,
   "metadata": {},
   "outputs": [],
   "source": []
  },
  {
   "cell_type": "code",
   "execution_count": null,
   "metadata": {},
   "outputs": [],
   "source": []
  },
  {
   "cell_type": "code",
   "execution_count": null,
   "metadata": {},
   "outputs": [],
   "source": []
  },
  {
   "cell_type": "code",
   "execution_count": null,
   "metadata": {},
   "outputs": [],
   "source": []
  },
  {
   "cell_type": "code",
   "execution_count": null,
   "metadata": {},
   "outputs": [],
   "source": []
  },
  {
   "cell_type": "code",
   "execution_count": null,
   "metadata": {},
   "outputs": [],
   "source": []
  },
  {
   "cell_type": "code",
   "execution_count": null,
   "metadata": {},
   "outputs": [],
   "source": []
  }
 ],
 "metadata": {
  "kernelspec": {
   "display_name": "Python 3",
   "language": "python",
   "name": "python3"
  },
  "language_info": {
   "codemirror_mode": {
    "name": "ipython",
    "version": 3
   },
   "file_extension": ".py",
   "mimetype": "text/x-python",
   "name": "python",
   "nbconvert_exporter": "python",
   "pygments_lexer": "ipython3",
   "version": "3.8.5"
  }
 },
 "nbformat": 4,
 "nbformat_minor": 4
}
